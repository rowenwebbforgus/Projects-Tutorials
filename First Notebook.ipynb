{
 "cells": [
  {
   "cell_type": "code",
   "execution_count": 1,
   "id": "8544a938",
   "metadata": {},
   "outputs": [
    {
     "name": "stdout",
     "output_type": "stream",
     "text": [
      "Hello World\n"
     ]
    }
   ],
   "source": [
    "print(\"Hello World\")"
   ]
  },
  {
   "cell_type": "code",
   "execution_count": 2,
   "id": "6a41661a",
   "metadata": {},
   "outputs": [
    {
     "name": "stdout",
     "output_type": "stream",
     "text": [
      "Good Job Rowen!!\n",
      "Good Job Rowen!!\n",
      "Good Job Rowen!!\n",
      "Good Job Rowen!!\n",
      "Good Job Rowen!!\n",
      "Good Job Rowen!!\n",
      "Good Job Rowen!!\n",
      "Good Job Rowen!!\n",
      "Good Job Rowen!!\n",
      "Good Job Rowen!!\n"
     ]
    }
   ],
   "source": [
    "for i in range(0,10):\n",
    "    print(\"Good Job Rowen!!\")"
   ]
  },
  {
   "cell_type": "code",
   "execution_count": null,
   "id": "84c6c028",
   "metadata": {},
   "outputs": [],
   "source": []
  }
 ],
 "metadata": {
  "kernelspec": {
   "display_name": "Python 3 (ipykernel)",
   "language": "python",
   "name": "python3"
  },
  "language_info": {
   "codemirror_mode": {
    "name": "ipython",
    "version": 3
   },
   "file_extension": ".py",
   "mimetype": "text/x-python",
   "name": "python",
   "nbconvert_exporter": "python",
   "pygments_lexer": "ipython3",
   "version": "3.10.7"
  }
 },
 "nbformat": 4,
 "nbformat_minor": 5
}
