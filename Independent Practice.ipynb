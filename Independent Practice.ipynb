{
 "cells": [
  {
   "cell_type": "code",
   "execution_count": 12,
   "id": "64fce84c",
   "metadata": {},
   "outputs": [
    {
     "name": "stdout",
     "output_type": "stream",
     "text": [
      "5296.27323502578\n"
     ]
    }
   ],
   "source": [
    "# creat a compound interest calculator that can take princiiple amount, rate, \n",
    "# number of times interest applied per time period, and number of time periods elapsed\n",
    "\n",
    "\n",
    "def money(principle, rate, number, time):\n",
    "    ammount = principle * (1 + rate/number)**(number*time) \n",
    "    print(ammount)\n",
    "\n",
    "money(4250,.045,1,5)\n",
    "    \n",
    "\n",
    "    "
   ]
  },
  {
   "cell_type": "code",
   "execution_count": 17,
   "id": "f4d1b34e",
   "metadata": {},
   "outputs": [
    {
     "name": "stdout",
     "output_type": "stream",
     "text": [
      "12222.349773468786\n"
     ]
    }
   ],
   "source": [
    "money(9800,.075,2,3)"
   ]
  },
  {
   "cell_type": "code",
   "execution_count": 14,
   "id": "a649157c",
   "metadata": {},
   "outputs": [
    {
     "name": "stdout",
     "output_type": "stream",
     "text": [
      "7185.878695241266\n"
     ]
    }
   ],
   "source": [
    "money(5600,.0625,12,4)"
   ]
  },
  {
   "cell_type": "code",
   "execution_count": 15,
   "id": "8aa753df",
   "metadata": {},
   "outputs": [
    {
     "name": "stdout",
     "output_type": "stream",
     "text": [
      "9640.066388741861\n"
     ]
    }
   ],
   "source": [
    "money(8550,.02,365,6)"
   ]
  },
  {
   "cell_type": "code",
   "execution_count": null,
   "id": "f31add2d",
   "metadata": {},
   "outputs": [],
   "source": []
  }
 ],
 "metadata": {
  "kernelspec": {
   "display_name": "Python 3 (ipykernel)",
   "language": "python",
   "name": "python3"
  },
  "language_info": {
   "codemirror_mode": {
    "name": "ipython",
    "version": 3
   },
   "file_extension": ".py",
   "mimetype": "text/x-python",
   "name": "python",
   "nbconvert_exporter": "python",
   "pygments_lexer": "ipython3",
   "version": "3.10.7"
  }
 },
 "nbformat": 4,
 "nbformat_minor": 5
}
