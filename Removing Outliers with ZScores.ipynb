{
 "cells": [
  {
   "cell_type": "code",
   "execution_count": 1,
   "id": "64049a2f",
   "metadata": {},
   "outputs": [],
   "source": [
    "## How to use Z Scores to remove outliers from a dataset\n",
    "\n",
    "## First import pandas and matplotlib. We need pandas to find the zscore and matplotlib to visualize the data\n",
    "\n",
    "import pandas as pd\n",
    "import matplotlib\n",
    "from matplotlib import pyplot as plt\n",
    "%matplotlib inline\n",
    "matplotlib.rcParams['figure.figsize'] = (12,8)"
   ]
  },
  {
   "cell_type": "code",
   "execution_count": 2,
   "id": "f08e8a98",
   "metadata": {},
   "outputs": [
    {
     "data": {
      "text/html": [
       "<div>\n",
       "<style scoped>\n",
       "    .dataframe tbody tr th:only-of-type {\n",
       "        vertical-align: middle;\n",
       "    }\n",
       "\n",
       "    .dataframe tbody tr th {\n",
       "        vertical-align: top;\n",
       "    }\n",
       "\n",
       "    .dataframe thead th {\n",
       "        text-align: right;\n",
       "    }\n",
       "</style>\n",
       "<table border=\"1\" class=\"dataframe\">\n",
       "  <thead>\n",
       "    <tr style=\"text-align: right;\">\n",
       "      <th></th>\n",
       "      <th>Entry #</th>\n",
       "      <th>price</th>\n",
       "      <th>total_area</th>\n",
       "    </tr>\n",
       "  </thead>\n",
       "  <tbody>\n",
       "    <tr>\n",
       "      <th>0</th>\n",
       "      <td>0</td>\n",
       "      <td>80000</td>\n",
       "      <td>50</td>\n",
       "    </tr>\n",
       "    <tr>\n",
       "      <th>1</th>\n",
       "      <td>1</td>\n",
       "      <td>27000</td>\n",
       "      <td>38</td>\n",
       "    </tr>\n",
       "    <tr>\n",
       "      <th>2</th>\n",
       "      <td>2</td>\n",
       "      <td>150000</td>\n",
       "      <td>130</td>\n",
       "    </tr>\n",
       "    <tr>\n",
       "      <th>3</th>\n",
       "      <td>3</td>\n",
       "      <td>47000</td>\n",
       "      <td>55</td>\n",
       "    </tr>\n",
       "    <tr>\n",
       "      <th>4</th>\n",
       "      <td>4</td>\n",
       "      <td>39000</td>\n",
       "      <td>33</td>\n",
       "    </tr>\n",
       "  </tbody>\n",
       "</table>\n",
       "</div>"
      ],
      "text/plain": [
       "   Entry #   price  total_area\n",
       "0        0   80000          50\n",
       "1        1   27000          38\n",
       "2        2  150000         130\n",
       "3        3   47000          55\n",
       "4        4   39000          33"
      ]
     },
     "execution_count": 2,
     "metadata": {},
     "output_type": "execute_result"
    }
   ],
   "source": [
    "## Create a dataframe and show the first 5 rows\n",
    "df = pd.read_csv(\"rent_apartment_moscow.csv\")\n",
    "df.head()"
   ]
  },
  {
   "cell_type": "code",
   "execution_count": 3,
   "id": "54385c27",
   "metadata": {},
   "outputs": [
    {
     "data": {
      "text/plain": [
       "(4241, 3)"
      ]
     },
     "execution_count": 3,
     "metadata": {},
     "output_type": "execute_result"
    }
   ],
   "source": [
    "## Number of rows and columns\n",
    "df.shape"
   ]
  },
  {
   "cell_type": "code",
   "execution_count": 4,
   "id": "8622624d",
   "metadata": {},
   "outputs": [
    {
     "data": {
      "text/plain": [
       "count    4.241000e+03\n",
       "mean     1.848907e+05\n",
       "std      3.326858e+05\n",
       "min      2.700000e+03\n",
       "25%      4.500000e+04\n",
       "50%      6.500000e+04\n",
       "75%      2.000000e+05\n",
       "max      5.837585e+06\n",
       "Name: price, dtype: float64"
      ]
     },
     "execution_count": 4,
     "metadata": {},
     "output_type": "execute_result"
    }
   ],
   "source": [
    "## Stats about the price column\n",
    "df.price.describe()"
   ]
  },
  {
   "cell_type": "code",
   "execution_count": 5,
   "id": "1737cc73",
   "metadata": {},
   "outputs": [
    {
     "data": {
      "image/png": "[encoded data removed]",
      "text/plain": [
       "<Figure size 1200x800 with 1 Axes>"
      ]
     },
     "metadata": {},
     "output_type": "display_data"
    }
   ],
   "source": [
    "## Plot the price of each unit as a histogram. Because the count of low-price units is so much greater \n",
    "## than high-price units, I used a logarithmic scale to better see all the data. We can easily see the outliers\n",
    "rent = plt.hist(df.price, bins=20, rwidth=0.8)\n",
    "plt.xlabel('Price')\n",
    "plt.ylabel('Count')\n",
    "plt.yscale('log')\n",
    "plt.show()"
   ]
  },
  {
   "cell_type": "code",
   "execution_count": 6,
   "id": "838c4c2c",
   "metadata": {},
   "outputs": [
    {
     "data": {
      "text/plain": [
       "184890.68332940343"
      ]
     },
     "execution_count": 6,
     "metadata": {},
     "output_type": "execute_result"
    }
   ],
   "source": [
    "## Find the mean\n",
    "mean = df.price.mean()\n",
    "mean"
   ]
  },
  {
   "cell_type": "code",
   "execution_count": 7,
   "id": "43233ea2",
   "metadata": {},
   "outputs": [
    {
     "data": {
      "text/plain": [
       "332685.8437517341"
      ]
     },
     "execution_count": 7,
     "metadata": {},
     "output_type": "execute_result"
    }
   ],
   "source": [
    "## Find the standard deviation\n",
    "STDdev = df.price.std()\n",
    "STDdev"
   ]
  },
  {
   "cell_type": "code",
   "execution_count": 8,
   "id": "a9149913",
   "metadata": {},
   "outputs": [
    {
     "data": {
      "text/html": [
       "<div>\n",
       "<style scoped>\n",
       "    .dataframe tbody tr th:only-of-type {\n",
       "        vertical-align: middle;\n",
       "    }\n",
       "\n",
       "    .dataframe tbody tr th {\n",
       "        vertical-align: top;\n",
       "    }\n",
       "\n",
       "    .dataframe thead th {\n",
       "        text-align: right;\n",
       "    }\n",
       "</style>\n",
       "<table border=\"1\" class=\"dataframe\">\n",
       "  <thead>\n",
       "    <tr style=\"text-align: right;\">\n",
       "      <th></th>\n",
       "      <th>Entry #</th>\n",
       "      <th>price</th>\n",
       "      <th>total_area</th>\n",
       "      <th>zscore</th>\n",
       "    </tr>\n",
       "  </thead>\n",
       "  <tbody>\n",
       "    <tr>\n",
       "      <th>0</th>\n",
       "      <td>0</td>\n",
       "      <td>80000</td>\n",
       "      <td>50</td>\n",
       "      <td>-0.315284</td>\n",
       "    </tr>\n",
       "    <tr>\n",
       "      <th>1</th>\n",
       "      <td>1</td>\n",
       "      <td>27000</td>\n",
       "      <td>38</td>\n",
       "      <td>-0.474594</td>\n",
       "    </tr>\n",
       "    <tr>\n",
       "      <th>2</th>\n",
       "      <td>2</td>\n",
       "      <td>150000</td>\n",
       "      <td>130</td>\n",
       "      <td>-0.104876</td>\n",
       "    </tr>\n",
       "    <tr>\n",
       "      <th>3</th>\n",
       "      <td>3</td>\n",
       "      <td>47000</td>\n",
       "      <td>55</td>\n",
       "      <td>-0.414477</td>\n",
       "    </tr>\n",
       "    <tr>\n",
       "      <th>4</th>\n",
       "      <td>4</td>\n",
       "      <td>39000</td>\n",
       "      <td>33</td>\n",
       "      <td>-0.438524</td>\n",
       "    </tr>\n",
       "  </tbody>\n",
       "</table>\n",
       "</div>"
      ],
      "text/plain": [
       "   Entry #   price  total_area    zscore\n",
       "0        0   80000          50 -0.315284\n",
       "1        1   27000          38 -0.474594\n",
       "2        2  150000         130 -0.104876\n",
       "3        3   47000          55 -0.414477\n",
       "4        4   39000          33 -0.438524"
      ]
     },
     "execution_count": 8,
     "metadata": {},
     "output_type": "execute_result"
    }
   ],
   "source": [
    "## Create a column titled zscore, using the z-score formula\n",
    "df['zscore'] = (df.price - df.price.mean())/df.price.std()\n",
    "df.head()"
   ]
  },
  {
   "cell_type": "code",
   "execution_count": 9,
   "id": "d7ed0853",
   "metadata": {},
   "outputs": [
    {
     "data": {
      "text/html": [
       "<div>\n",
       "<style scoped>\n",
       "    .dataframe tbody tr th:only-of-type {\n",
       "        vertical-align: middle;\n",
       "    }\n",
       "\n",
       "    .dataframe tbody tr th {\n",
       "        vertical-align: top;\n",
       "    }\n",
       "\n",
       "    .dataframe thead th {\n",
       "        text-align: right;\n",
       "    }\n",
       "</style>\n",
       "<table border=\"1\" class=\"dataframe\">\n",
       "  <thead>\n",
       "    <tr style=\"text-align: right;\">\n",
       "      <th></th>\n",
       "      <th>Entry #</th>\n",
       "      <th>price</th>\n",
       "      <th>total_area</th>\n",
       "      <th>zscore</th>\n",
       "    </tr>\n",
       "  </thead>\n",
       "  <tbody>\n",
       "    <tr>\n",
       "      <th>662</th>\n",
       "      <td>662</td>\n",
       "      <td>1272343</td>\n",
       "      <td>64</td>\n",
       "      <td>3.268706</td>\n",
       "    </tr>\n",
       "    <tr>\n",
       "      <th>668</th>\n",
       "      <td>668</td>\n",
       "      <td>1600000</td>\n",
       "      <td>64</td>\n",
       "      <td>4.253590</td>\n",
       "    </tr>\n",
       "    <tr>\n",
       "      <th>681</th>\n",
       "      <td>681</td>\n",
       "      <td>1500000</td>\n",
       "      <td>64</td>\n",
       "      <td>3.953007</td>\n",
       "    </tr>\n",
       "    <tr>\n",
       "      <th>686</th>\n",
       "      <td>686</td>\n",
       "      <td>2000000</td>\n",
       "      <td>64</td>\n",
       "      <td>5.455926</td>\n",
       "    </tr>\n",
       "    <tr>\n",
       "      <th>1761</th>\n",
       "      <td>1761</td>\n",
       "      <td>1272343</td>\n",
       "      <td>330</td>\n",
       "      <td>3.268706</td>\n",
       "    </tr>\n",
       "    <tr>\n",
       "      <th>...</th>\n",
       "      <td>...</td>\n",
       "      <td>...</td>\n",
       "      <td>...</td>\n",
       "      <td>...</td>\n",
       "    </tr>\n",
       "    <tr>\n",
       "      <th>4209</th>\n",
       "      <td>4209</td>\n",
       "      <td>1500000</td>\n",
       "      <td>64</td>\n",
       "      <td>3.953007</td>\n",
       "    </tr>\n",
       "    <tr>\n",
       "      <th>4220</th>\n",
       "      <td>4220</td>\n",
       "      <td>1401020</td>\n",
       "      <td>64</td>\n",
       "      <td>3.655489</td>\n",
       "    </tr>\n",
       "    <tr>\n",
       "      <th>4221</th>\n",
       "      <td>4221</td>\n",
       "      <td>1401020</td>\n",
       "      <td>64</td>\n",
       "      <td>3.655489</td>\n",
       "    </tr>\n",
       "    <tr>\n",
       "      <th>4233</th>\n",
       "      <td>4233</td>\n",
       "      <td>1401020</td>\n",
       "      <td>64</td>\n",
       "      <td>3.655489</td>\n",
       "    </tr>\n",
       "    <tr>\n",
       "      <th>4235</th>\n",
       "      <td>4235</td>\n",
       "      <td>2218282</td>\n",
       "      <td>64</td>\n",
       "      <td>6.112046</td>\n",
       "    </tr>\n",
       "  </tbody>\n",
       "</table>\n",
       "<p>87 rows × 4 columns</p>\n",
       "</div>"
      ],
      "text/plain": [
       "      Entry #    price  total_area    zscore\n",
       "662       662  1272343          64  3.268706\n",
       "668       668  1600000          64  4.253590\n",
       "681       681  1500000          64  3.953007\n",
       "686       686  2000000          64  5.455926\n",
       "1761     1761  1272343         330  3.268706\n",
       "...       ...      ...         ...       ...\n",
       "4209     4209  1500000          64  3.953007\n",
       "4220     4220  1401020          64  3.655489\n",
       "4221     4221  1401020          64  3.655489\n",
       "4233     4233  1401020          64  3.655489\n",
       "4235     4235  2218282          64  6.112046\n",
       "\n",
       "[87 rows x 4 columns]"
      ]
     },
     "execution_count": 9,
     "metadata": {},
     "output_type": "execute_result"
    }
   ],
   "source": [
    "## Find all entries with a z-score greater than 3 or a z-score less than -3\n",
    "df[(df.zscore>3) | (df.zscore<-3)]"
   ]
  },
  {
   "cell_type": "code",
   "execution_count": 10,
   "id": "d5617dab",
   "metadata": {},
   "outputs": [
    {
     "data": {
      "text/plain": [
       "(4154, 4)"
      ]
     },
     "execution_count": 10,
     "metadata": {},
     "output_type": "execute_result"
    }
   ],
   "source": [
    "## Create a new data frame including all entries with a z-score less than 3 and greater than -3\n",
    "df_no_outlier = df[(df.zscore<3) & (df.zscore>-3)]\n",
    "df_no_outlier.shape"
   ]
  },
  {
   "cell_type": "code",
   "execution_count": 11,
   "id": "d42e5060",
   "metadata": {},
   "outputs": [
    {
     "data": {
      "image/png": "[encoded data removed]",
      "text/plain": [
       "<Figure size 1200x800 with 1 Axes>"
      ]
     },
     "metadata": {},
     "output_type": "display_data"
    }
   ],
   "source": [
    "## Plot new data frame without outliers\n",
    "rent = plt.hist(df_no_outlier.price, bins=20, rwidth=0.8)\n",
    "plt.xlabel('Price')\n",
    "plt.ylabel('Count')\n",
    "plt.yscale('log')\n",
    "plt.show()"
   ]
  },
  {
   "cell_type": "code",
   "execution_count": null,
   "id": "1cd20c1f",
   "metadata": {},
   "outputs": [],
   "source": []
  }
 ],
 "metadata": {
  "kernelspec": {
   "display_name": "Python 3 (ipykernel)",
   "language": "python",
   "name": "python3"
  },
  "language_info": {
   "codemirror_mode": {
    "name": "ipython",
    "version": 3
   },
   "file_extension": ".py",
   "mimetype": "text/x-python",
   "name": "python",
   "nbconvert_exporter": "python",
   "pygments_lexer": "ipython3",
   "version": "3.10.7"
  }
 },
 "nbformat": 4,
 "nbformat_minor": 5
}
