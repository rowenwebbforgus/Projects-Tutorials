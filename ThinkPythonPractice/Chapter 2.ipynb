{
 "cells": [
  {
   "cell_type": "code",
   "execution_count": 1,
   "id": "58fa89d3",
   "metadata": {},
   "outputs": [],
   "source": [
    "x=y=1"
   ]
  },
  {
   "cell_type": "code",
   "execution_count": 2,
   "id": "d42eef22",
   "metadata": {},
   "outputs": [
    {
     "name": "stdout",
     "output_type": "stream",
     "text": [
      "hello\n"
     ]
    }
   ],
   "source": [
    "print('hello')"
   ]
  },
  {
   "cell_type": "code",
   "execution_count": 3,
   "id": "c7740a3a",
   "metadata": {},
   "outputs": [
    {
     "name": "stdout",
     "output_type": "stream",
     "text": [
      "hello\n"
     ]
    }
   ],
   "source": [
    "print('hello');"
   ]
  },
  {
   "cell_type": "code",
   "execution_count": 4,
   "id": "5cb8e8c7",
   "metadata": {},
   "outputs": [
    {
     "ename": "NameError",
     "evalue": "name 'xy' is not defined",
     "output_type": "error",
     "traceback": [
      "\u001b[1;31m---------------------------------------------------------------------------\u001b[0m",
      "\u001b[1;31mNameError\u001b[0m                                 Traceback (most recent call last)",
      "Cell \u001b[1;32mIn [4], line 3\u001b[0m\n\u001b[0;32m      1\u001b[0m x\u001b[38;5;241m=\u001b[39m\u001b[38;5;241m1\u001b[39m\n\u001b[0;32m      2\u001b[0m y\u001b[38;5;241m=\u001b[39m\u001b[38;5;241m2\u001b[39m\n\u001b[1;32m----> 3\u001b[0m xy\n",
      "\u001b[1;31mNameError\u001b[0m: name 'xy' is not defined"
     ]
    }
   ],
   "source": [
    "x=1\n",
    "y=2\n",
    "xy"
   ]
  },
  {
   "cell_type": "code",
   "execution_count": 5,
   "id": "e2ed07bd",
   "metadata": {},
   "outputs": [
    {
     "data": {
      "text/plain": [
       "2"
      ]
     },
     "execution_count": 5,
     "metadata": {},
     "output_type": "execute_result"
    }
   ],
   "source": [
    "x=1\n",
    "y=2\n",
    "x*y"
   ]
  },
  {
   "cell_type": "markdown",
   "id": "b3369865",
   "metadata": {},
   "source": [
    "# Excercises 2.4"
   ]
  },
  {
   "cell_type": "code",
   "execution_count": 6,
   "id": "80f798bd",
   "metadata": {},
   "outputs": [
    {
     "name": "stdout",
     "output_type": "stream",
     "text": [
      "Volume of a sphere with radius 5 is equal to 523.3333333333334\n"
     ]
    }
   ],
   "source": [
    "# The volume of a sphere with radius r is 4\n",
    "# 3pr3. What is the volume of a sphere with radius 5?\n",
    "\n",
    "r = 5 #r needs to come first since volume references it\n",
    "volume = (4/3)*3.14*r**3\n",
    "print('Volume of a sphere with radius 5 is equal to', volume)"
   ]
  },
  {
   "cell_type": "code",
   "execution_count": 7,
   "id": "df721357",
   "metadata": {},
   "outputs": [
    {
     "name": "stdout",
     "output_type": "stream",
     "text": [
      "Total wholesale cost for 60 copies is 945.45\n"
     ]
    }
   ],
   "source": [
    "price = 24.95*0.6\n",
    "ship_cost = 3\n",
    "ship_cost_copy = 0.75\n",
    "total_sum = price + ship_cost + (price + ship_cost_copy)*59\n",
    "print('Total wholesale cost for 60 copies is {0:.2f}'.format(total_sum))"
   ]
  },
  {
   "cell_type": "code",
   "execution_count": 8,
   "id": "0096cfc9",
   "metadata": {},
   "outputs": [
    {
     "name": "stdout",
     "output_type": "stream",
     "text": [
      "945.4499999999999\n"
     ]
    }
   ],
   "source": [
    "# Suppose the cover price of a book is $24.95, but bookstores get a 40% discount. \n",
    "# Shipping costs $3 for the first copy and 75 cents for each additional copy. \n",
    "# What is the total wholesale cost for 60 copies?\n",
    "\n",
    "og_price = 24.95 #original price per copy\n",
    "discount = .6 #discount\n",
    "shipping1 = 3 #cost for first copy\n",
    "shipping2 = 0.75 #cost for each additional copy\n",
    "wholesale = 60*(og_price*discount)+shipping1+shipping2*59\n",
    "print(wholesale)"
   ]
  },
  {
   "cell_type": "code",
   "execution_count": 9,
   "id": "d49ca22a",
   "metadata": {},
   "outputs": [
    {
     "name": "stdout",
     "output_type": "stream",
     "text": [
      "Breakfast is at 7 : 30 am\n",
      "Breakfast is at 7:30 am\n"
     ]
    }
   ],
   "source": [
    "# If I leave my house at 6:52 am and run 1 mile at an easy pace \n",
    "# (8:15 per mile), then 3 miles at tempo (7:12 per mile) and 1 mile \n",
    "# at easy pace again, what time do I get home for breakfast?\n",
    "\n",
    "start_time = (6*60 + 52)*60 #start time in seconds\n",
    "easy_time = (8*60 + 15)*2 #time ran at easy pace in seconds\n",
    "tempo_time = (7*60 + 12)*3 #time ran at tempo in seconds\n",
    "\n",
    "breakfast_hour = (start_time + easy_time + tempo_time)/(60*60) #numerator gives breakfast time in seconds, denominator converts to hours\n",
    "breakfast_int_hour = int(breakfast_hour) #rounds breakfast hour to whole number\n",
    "\n",
    "breakfast_minute  = (breakfast_hour - breakfast_int_hour)*60 #finds breakfast minutes by subtracting breakfast_int from breakfast_hour, than converts that to minutes\n",
    "breakfast_int_minute = int(breakfast_minute) #rounds breakfast minute to whole number\n",
    "\n",
    "print('Breakfast is at',breakfast_int_hour,':',breakfast_int_minute, 'am')\n",
    "\n",
    "print('Breakfast is at {}:{} am'.format(breakfast_int_hour,breakfast_int_minute)) #format function plugs in hour and minute to the {} spaces, makes it look nicer\n"
   ]
  },
  {
   "cell_type": "code",
   "execution_count": null,
   "id": "39ec0cb8",
   "metadata": {},
   "outputs": [],
   "source": []
  }
 ],
 "metadata": {
  "kernelspec": {
   "display_name": "Python 3 (ipykernel)",
   "language": "python",
   "name": "python3"
  },
  "language_info": {
   "codemirror_mode": {
    "name": "ipython",
    "version": 3
   },
   "file_extension": ".py",
   "mimetype": "text/x-python",
   "name": "python",
   "nbconvert_exporter": "python",
   "pygments_lexer": "ipython3",
   "version": "3.10.7"
  }
 },
 "nbformat": 4,
 "nbformat_minor": 5
}
