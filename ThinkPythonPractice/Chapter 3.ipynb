{
 "cells": [
  {
   "cell_type": "code",
   "execution_count": 14,
   "id": "4c7bfc98",
   "metadata": {},
   "outputs": [
    {
     "data": {
      "text/plain": [
       "33.27"
      ]
     },
     "execution_count": 14,
     "metadata": {},
     "output_type": "execute_result"
    }
   ],
   "source": [
    "round(33.275,2)"
   ]
  },
  {
   "cell_type": "code",
   "execution_count": 17,
   "id": "61d05e86",
   "metadata": {},
   "outputs": [],
   "source": [
    "import math\n",
    "import datetime"
   ]
  },
  {
   "cell_type": "code",
   "execution_count": 18,
   "id": "1affa8da",
   "metadata": {},
   "outputs": [
    {
     "name": "stdout",
     "output_type": "stream",
     "text": [
      "Package                Version\n",
      "---------------------- -----------\n",
      "anyio                  3.6.1\n",
      "argon2-cffi            21.3.0\n",
      "argon2-cffi-bindings   21.2.0\n",
      "asttokens              2.0.8\n",
      "attrs                  22.1.0\n",
      "Babel                  2.10.3\n",
      "backcall               0.2.0\n",
      "beautifulsoup4         4.11.1\n",
      "bleach                 5.0.1\n",
      "certifi                2022.9.24\n",
      "cffi                   1.15.1\n",
      "charset-normalizer     2.1.1\n",
      "colorama               0.4.5\n",
      "contourpy              1.0.5\n",
      "cycler                 0.11.0\n",
      "debugpy                1.6.3\n",
      "decorator              5.1.1\n",
      "defusedxml             0.7.1\n",
      "entrypoints            0.4\n",
      "executing              1.1.0\n",
      "fastjsonschema         2.16.2\n",
      "fonttools              4.37.4\n",
      "idna                   3.4\n",
      "ipykernel              6.16.0\n",
      "ipython                8.5.0\n",
      "ipython-genutils       0.2.0\n",
      "ipywidgets             8.0.2\n",
      "jedi                   0.18.1\n",
      "Jinja2                 3.1.2\n",
      "json5                  0.9.10\n",
      "jsonschema             4.16.0\n",
      "jupyter                1.0.0\n",
      "jupyter_client         7.3.5\n",
      "jupyter-console        6.4.4\n",
      "jupyter-core           4.11.1\n",
      "jupyter-server         1.19.1\n",
      "jupyterlab             3.4.7\n",
      "jupyterlab-pygments    0.2.2\n",
      "jupyterlab_server      2.15.2\n",
      "jupyterlab-widgets     3.0.3\n",
      "kiwisolver             1.4.4\n",
      "lxml                   4.9.1\n",
      "MarkupSafe             2.1.1\n",
      "matplotlib             3.6.0\n",
      "matplotlib-inline      0.1.6\n",
      "mistune                2.0.4\n",
      "mysql-connector-python 8.0.30\n",
      "nbclassic              0.4.4\n",
      "nbclient               0.6.8\n",
      "nbconvert              7.0.0\n",
      "nbformat               5.6.1\n",
      "nest-asyncio           1.5.6\n",
      "notebook               6.4.12\n",
      "notebook-shim          0.1.0\n",
      "numpy                  1.23.3\n",
      "packaging              21.3\n",
      "pandas                 1.5.0\n",
      "pandocfilters          1.5.0\n",
      "parso                  0.8.3\n",
      "pickleshare            0.7.5\n",
      "Pillow                 9.2.0\n",
      "pip                    22.2.2\n",
      "prometheus-client      0.14.1\n",
      "prompt-toolkit         3.0.31\n",
      "psutil                 5.9.2\n",
      "pure-eval              0.2.2\n",
      "pycparser              2.21\n",
      "Pygments               2.13.0\n",
      "pyparsing              3.0.9\n",
      "pyrsistent             0.18.1\n",
      "python-dateutil        2.8.2\n",
      "pytz                   2022.2.1\n",
      "pywin32                304\n",
      "pywinpty               2.0.8\n",
      "pyzmq                  24.0.1\n",
      "qtconsole              5.3.2\n",
      "QtPy                   2.2.0\n",
      "requests               2.28.1\n",
      "seaborn                0.12.0\n",
      "Send2Trash             1.8.0\n",
      "setuptools             63.2.0\n",
      "six                    1.16.0\n",
      "sniffio                1.3.0\n",
      "soupsieve              2.3.2.post1\n",
      "stack-data             0.5.1\n",
      "terminado              0.16.0\n",
      "tinycss2               1.1.1\n",
      "tomli                  2.0.1\n",
      "tornado                6.2\n",
      "traitlets              5.4.0\n",
      "urllib3                1.26.12\n",
      "wcwidth                0.2.5\n",
      "webencodings           0.5.1\n",
      "websocket-client       1.4.1\n",
      "widgetsnbextension     4.0.3\n",
      "Note: you may need to restart the kernel to use updated packages.\n"
     ]
    }
   ],
   "source": [
    "pip list"
   ]
  },
  {
   "cell_type": "code",
   "execution_count": 19,
   "id": "26c21e31",
   "metadata": {},
   "outputs": [
    {
     "name": "stdout",
     "output_type": "stream",
     "text": [
      "\n",
      "Please wait a moment while I gather a list of all available modules...\n",
      "\n"
     ]
    },
    {
     "name": "stderr",
     "output_type": "stream",
     "text": [
      "C:\\Users\\ricas\\AppData\\Local\\Programs\\Python\\Python310\\lib\\pkgutil.py:92: UserWarning: The numpy.array_api submodule is still experimental. See NEP 47.\n",
      "  __import__(info.name)\n",
      "C:\\Users\\ricas\\AppData\\Local\\Programs\\Python\\Python310\\lib\\site-packages\\_distutils_hack\\__init__.py:33: UserWarning: Setuptools is replacing distutils.\n",
      "  warnings.warn(\"Setuptools is replacing distutils.\")\n",
      "C:\\Users\\ricas\\AppData\\Local\\Programs\\Python\\Python310\\lib\\pkgutil.py:107: VisibleDeprecationWarning: zmq.eventloop.minitornado is deprecated in pyzmq 14.0 and will be removed.\n",
      "    Install tornado itself to use zmq with the tornado IOLoop.\n",
      "    \n",
      "  yield from walk_packages(path, info.name+'.', onerror)\n"
     ]
    },
    {
     "name": "stdout",
     "output_type": "stream",
     "text": [
      "IPython             bleach              math                stack_data\n",
      "PIL                 bs4                 matplotlib          stat\n",
      "__future__          builtins            matplotlib_inline   statistics\n",
      "_abc                bz2                 mimetypes           string\n",
      "_aix_support        cProfile            mistune             stringprep\n",
      "_argon2_cffi_bindings calendar            mmap                struct\n",
      "_ast                certifi             mmapfile            subprocess\n",
      "_asyncio            cffi                mmsystem            sunau\n",
      "_bisect             cgi                 modulefinder        symtable\n",
      "_blake2             cgitb               msilib              sys\n",
      "_bootsubprocess     charset_normalizer  msvcrt              sysconfig\n",
      "_bz2                chunk               multiprocessing     tabnanny\n",
      "_cffi_backend       cmath               mysql               tarfile\n",
      "_codecs             cmd                 mysqlx              telnetlib\n",
      "_codecs_cn          code                nbclassic           tempfile\n",
      "_codecs_hk          codecs              nbclient            terminado\n",
      "_codecs_iso2022     codeop              nbconvert           test\n",
      "_codecs_jp          collections         nbformat            textwrap\n",
      "_codecs_kr          colorama            nest_asyncio        this\n",
      "_codecs_tw          colorsys            netbios             threading\n",
      "_collections        commctrl            netrc               time\n",
      "_collections_abc    compileall          nntplib             timeit\n",
      "_compat_pickle      concurrent          notebook            timer\n",
      "_compression        configparser        notebook_shim       tinycss2\n",
      "_contextvars        contextlib          nt                  tkinter\n",
      "_csv                contextvars         ntpath              token\n",
      "_ctypes             contourpy           ntsecuritycon       tokenize\n",
      "_ctypes_test        copy                nturl2path          tomli\n",
      "_datetime           copyreg             numbers             tornado\n",
      "_decimal            crypt               numpy               trace\n",
      "_distutils_hack     csv                 odbc                traceback\n",
      "_elementtree        ctypes              opcode              tracemalloc\n",
      "_functools          curses              operator            traitlets\n",
      "_hashlib            cycler              optparse            tty\n",
      "_heapq              dataclasses         os                  turtle\n",
      "_imp                datetime            packaging           turtledemo\n",
      "_io                 dateutil            pandas              types\n",
      "_json               dbi                 pandocfilters       typing\n",
      "_locale             dbm                 parso               unicodedata\n",
      "_lsprof             dde                 pathlib             unittest\n",
      "_lzma               debugpy             pdb                 urllib\n",
      "_markupbase         decimal             perfmon             urllib3\n",
      "_md5                decorator           pickle              uu\n",
      "_msi                defusedxml          pickleshare         uuid\n",
      "_multibytecodec     difflib             pickletools         venv\n",
      "_multiprocessing    dis                 pip                 warnings\n",
      "_mysql_connector    distutils           pipes               wave\n",
      "_mysqlxpb           doctest             pkg_resources       wcwidth\n",
      "_opcode             email               pkgutil             weakref\n",
      "_operator           encodings           platform            webbrowser\n",
      "_osx_support        ensurepip           plistlib            webencodings\n",
      "_overlapped         entrypoints         poplib              websocket\n",
      "_pickle             enum                posixpath           widgetsnbextension\n",
      "_py_abc             errno               pprint              win2kras\n",
      "_pydecimal          executing           profile             win32api\n",
      "_pyio               fastjsonschema      prometheus_client   win32clipboard\n",
      "_pyrsistent_version faulthandler        prompt_toolkit      win32com\n",
      "_queue              filecmp             pstats              win32con\n",
      "_random             fileinput           psutil              win32console\n",
      "_sha1               fnmatch             pty                 win32cred\n",
      "_sha256             fontTools           pure_eval           win32crypt\n",
      "_sha3               fractions           pvectorc            win32cryptcon\n",
      "_sha512             ftplib              py_compile          win32event\n",
      "_signal             functools           pyclbr              win32evtlog\n",
      "_sitebuiltins       gc                  pycparser           win32evtlogutil\n",
      "_socket             genericpath         pydoc               win32file\n",
      "_sqlite3            getopt              pydoc_data          win32gui\n",
      "_sre                getpass             pyexpat             win32gui_struct\n",
      "_ssl                gettext             pygments            win32help\n",
      "_stat               glob                pylab               win32inet\n",
      "_statistics         graphlib            pyparsing           win32inetcon\n",
      "_string             gzip                pyrsistent          win32job\n",
      "_strptime           hashlib             pythoncom           win32lz\n",
      "_struct             heapq               pytz                win32net\n",
      "_symtable           hmac                pywin               win32netcon\n",
      "_testbuffer         html                pywin32_bootstrap   win32pdh\n",
      "_testcapi           http                pywin32_testutil    win32pdhquery\n",
      "_testconsole        idlelib             pywintypes          win32pdhutil\n",
      "_testimportmultiple idna                qtconsole           win32pipe\n",
      "_testinternalcapi   imaplib             qtpy                win32print\n",
      "_testmultiphase     imghdr              queue               win32process\n",
      "_thread             imp                 quopri              win32profile\n",
      "_threading_local    importlib           random              win32ras\n",
      "_tkinter            inspect             rasutil             win32rcparser\n",
      "_tracemalloc        intro               re                  win32security\n",
      "_uuid               io                  regcheck            win32service\n",
      "_warnings           ipaddress           regutil             win32serviceutil\n",
      "_weakref            ipykernel           reprlib             win32timezone\n",
      "_weakrefset         ipykernel_launcher  requests            win32trace\n",
      "_win32sysloader     ipython_genutils    rlcompleter         win32traceutil\n",
      "_winapi             ipywidgets          runpy               win32transaction\n",
      "_winxptheme         isapi               sched               win32ts\n",
      "_xxsubinterpreters  itertools           seaborn             win32ui\n",
      "_zoneinfo           jedi                secrets             win32uiole\n",
      "abc                 jinja2              select              win32verstamp\n",
      "adodbapi            json                selectors           win32wnet\n",
      "afxres              json5               send2trash          winerror\n",
      "aifc                jsonschema          servicemanager      winioctlcon\n",
      "antigravity         jupyter             setuptools          winnt\n",
      "anyio               jupyter_client      shelve              winperf\n",
      "argon2              jupyter_console     shlex               winpty\n",
      "argparse            jupyter_core        shutil              winreg\n",
      "array               jupyter_server      signal              winsound\n",
      "ast                 jupyterlab          site                winxpgui\n",
      "asttokens           jupyterlab_pygments six                 winxptheme\n",
      "asynchat            jupyterlab_server   smtpd               wsgiref\n",
      "asyncio             jupyterlab_widgets  smtplib             xdrlib\n",
      "asyncore            keyword             sndhdr              xml\n",
      "atexit              kiwisolver          sniffio             xmlrpc\n",
      "attr                lib2to3             socket              xxsubtype\n",
      "attrs               linecache           socketserver        zipapp\n",
      "audioop             locale              soupsieve           zipfile\n",
      "babel               logging             sqlite3             zipimport\n",
      "backcall            lxml                sre_compile         zlib\n",
      "base64              lzma                sre_constants       zmq\n",
      "bdb                 mailbox             sre_parse           zoneinfo\n",
      "binascii            mailcap             ssl                 \n",
      "binhex              markupsafe          sspi                \n",
      "bisect              marshal             sspicon             \n",
      "\n",
      "Enter any module name to get more help.  Or, type \"modules spam\" to search\n",
      "for modules whose name or summary contain the string \"spam\".\n",
      "\n"
     ]
    }
   ],
   "source": [
    "help(\"modules\")"
   ]
  },
  {
   "cell_type": "code",
   "execution_count": 20,
   "id": "53d575fc",
   "metadata": {},
   "outputs": [
    {
     "data": {
      "text/plain": [
       "<module 'math' (built-in)>"
      ]
     },
     "execution_count": 20,
     "metadata": {},
     "output_type": "execute_result"
    }
   ],
   "source": [
    "math"
   ]
  },
  {
   "cell_type": "code",
   "execution_count": 23,
   "id": "e8bf2122",
   "metadata": {},
   "outputs": [
    {
     "name": "stdout",
     "output_type": "stream",
     "text": [
      "Help on built-in module math:\n",
      "\n",
      "NAME\n",
      "    math\n",
      "\n",
      "DESCRIPTION\n",
      "    This module provides access to the mathematical functions\n",
      "    defined by the C standard.\n",
      "\n",
      "FUNCTIONS\n",
      "    acos(x, /)\n",
      "        Return the arc cosine (measured in radians) of x.\n",
      "        \n",
      "        The result is between 0 and pi.\n",
      "    \n",
      "    acosh(x, /)\n",
      "        Return the inverse hyperbolic cosine of x.\n",
      "    \n",
      "    asin(x, /)\n",
      "        Return the arc sine (measured in radians) of x.\n",
      "        \n",
      "        The result is between -pi/2 and pi/2.\n",
      "    \n",
      "    asinh(x, /)\n",
      "        Return the inverse hyperbolic sine of x.\n",
      "    \n",
      "    atan(x, /)\n",
      "        Return the arc tangent (measured in radians) of x.\n",
      "        \n",
      "        The result is between -pi/2 and pi/2.\n",
      "    \n",
      "    atan2(y, x, /)\n",
      "        Return the arc tangent (measured in radians) of y/x.\n",
      "        \n",
      "        Unlike atan(y/x), the signs of both x and y are considered.\n",
      "    \n",
      "    atanh(x, /)\n",
      "        Return the inverse hyperbolic tangent of x.\n",
      "    \n",
      "    ceil(x, /)\n",
      "        Return the ceiling of x as an Integral.\n",
      "        \n",
      "        This is the smallest integer >= x.\n",
      "    \n",
      "    comb(n, k, /)\n",
      "        Number of ways to choose k items from n items without repetition and without order.\n",
      "        \n",
      "        Evaluates to n! / (k! * (n - k)!) when k <= n and evaluates\n",
      "        to zero when k > n.\n",
      "        \n",
      "        Also called the binomial coefficient because it is equivalent\n",
      "        to the coefficient of k-th term in polynomial expansion of the\n",
      "        expression (1 + x)**n.\n",
      "        \n",
      "        Raises TypeError if either of the arguments are not integers.\n",
      "        Raises ValueError if either of the arguments are negative.\n",
      "    \n",
      "    copysign(x, y, /)\n",
      "        Return a float with the magnitude (absolute value) of x but the sign of y.\n",
      "        \n",
      "        On platforms that support signed zeros, copysign(1.0, -0.0)\n",
      "        returns -1.0.\n",
      "    \n",
      "    cos(x, /)\n",
      "        Return the cosine of x (measured in radians).\n",
      "    \n",
      "    cosh(x, /)\n",
      "        Return the hyperbolic cosine of x.\n",
      "    \n",
      "    degrees(x, /)\n",
      "        Convert angle x from radians to degrees.\n",
      "    \n",
      "    dist(p, q, /)\n",
      "        Return the Euclidean distance between two points p and q.\n",
      "        \n",
      "        The points should be specified as sequences (or iterables) of\n",
      "        coordinates.  Both inputs must have the same dimension.\n",
      "        \n",
      "        Roughly equivalent to:\n",
      "            sqrt(sum((px - qx) ** 2.0 for px, qx in zip(p, q)))\n",
      "    \n",
      "    erf(x, /)\n",
      "        Error function at x.\n",
      "    \n",
      "    erfc(x, /)\n",
      "        Complementary error function at x.\n",
      "    \n",
      "    exp(x, /)\n",
      "        Return e raised to the power of x.\n",
      "    \n",
      "    expm1(x, /)\n",
      "        Return exp(x)-1.\n",
      "        \n",
      "        This function avoids the loss of precision involved in the direct evaluation of exp(x)-1 for small x.\n",
      "    \n",
      "    fabs(x, /)\n",
      "        Return the absolute value of the float x.\n",
      "    \n",
      "    factorial(x, /)\n",
      "        Find x!.\n",
      "        \n",
      "        Raise a ValueError if x is negative or non-integral.\n",
      "    \n",
      "    floor(x, /)\n",
      "        Return the floor of x as an Integral.\n",
      "        \n",
      "        This is the largest integer <= x.\n",
      "    \n",
      "    fmod(x, y, /)\n",
      "        Return fmod(x, y), according to platform C.\n",
      "        \n",
      "        x % y may differ.\n",
      "    \n",
      "    frexp(x, /)\n",
      "        Return the mantissa and exponent of x, as pair (m, e).\n",
      "        \n",
      "        m is a float and e is an int, such that x = m * 2.**e.\n",
      "        If x is 0, m and e are both 0.  Else 0.5 <= abs(m) < 1.0.\n",
      "    \n",
      "    fsum(seq, /)\n",
      "        Return an accurate floating point sum of values in the iterable seq.\n",
      "        \n",
      "        Assumes IEEE-754 floating point arithmetic.\n",
      "    \n",
      "    gamma(x, /)\n",
      "        Gamma function at x.\n",
      "    \n",
      "    gcd(*integers)\n",
      "        Greatest Common Divisor.\n",
      "    \n",
      "    hypot(...)\n",
      "        hypot(*coordinates) -> value\n",
      "        \n",
      "        Multidimensional Euclidean distance from the origin to a point.\n",
      "        \n",
      "        Roughly equivalent to:\n",
      "            sqrt(sum(x**2 for x in coordinates))\n",
      "        \n",
      "        For a two dimensional point (x, y), gives the hypotenuse\n",
      "        using the Pythagorean theorem:  sqrt(x*x + y*y).\n",
      "        \n",
      "        For example, the hypotenuse of a 3/4/5 right triangle is:\n",
      "        \n",
      "            >>> hypot(3.0, 4.0)\n",
      "            5.0\n",
      "    \n",
      "    isclose(a, b, *, rel_tol=1e-09, abs_tol=0.0)\n",
      "        Determine whether two floating point numbers are close in value.\n",
      "        \n",
      "          rel_tol\n",
      "            maximum difference for being considered \"close\", relative to the\n",
      "            magnitude of the input values\n",
      "          abs_tol\n",
      "            maximum difference for being considered \"close\", regardless of the\n",
      "            magnitude of the input values\n",
      "        \n",
      "        Return True if a is close in value to b, and False otherwise.\n",
      "        \n",
      "        For the values to be considered close, the difference between them\n",
      "        must be smaller than at least one of the tolerances.\n",
      "        \n",
      "        -inf, inf and NaN behave similarly to the IEEE 754 Standard.  That\n",
      "        is, NaN is not close to anything, even itself.  inf and -inf are\n",
      "        only close to themselves.\n",
      "    \n",
      "    isfinite(x, /)\n",
      "        Return True if x is neither an infinity nor a NaN, and False otherwise.\n",
      "    \n",
      "    isinf(x, /)\n",
      "        Return True if x is a positive or negative infinity, and False otherwise.\n",
      "    \n",
      "    isnan(x, /)\n",
      "        Return True if x is a NaN (not a number), and False otherwise.\n",
      "    \n",
      "    isqrt(n, /)\n",
      "        Return the integer part of the square root of the input.\n",
      "    \n",
      "    lcm(*integers)\n",
      "        Least Common Multiple.\n",
      "    \n",
      "    ldexp(x, i, /)\n",
      "        Return x * (2**i).\n",
      "        \n",
      "        This is essentially the inverse of frexp().\n",
      "    \n",
      "    lgamma(x, /)\n",
      "        Natural logarithm of absolute value of Gamma function at x.\n",
      "    \n",
      "    log(...)\n",
      "        log(x, [base=math.e])\n",
      "        Return the logarithm of x to the given base.\n",
      "        \n",
      "        If the base not specified, returns the natural logarithm (base e) of x.\n",
      "    \n",
      "    log10(x, /)\n",
      "        Return the base 10 logarithm of x.\n",
      "    \n",
      "    log1p(x, /)\n",
      "        Return the natural logarithm of 1+x (base e).\n",
      "        \n",
      "        The result is computed in a way which is accurate for x near zero.\n",
      "    \n",
      "    log2(x, /)\n",
      "        Return the base 2 logarithm of x.\n",
      "    \n",
      "    modf(x, /)\n",
      "        Return the fractional and integer parts of x.\n",
      "        \n",
      "        Both results carry the sign of x and are floats.\n",
      "    \n",
      "    nextafter(x, y, /)\n",
      "        Return the next floating-point value after x towards y.\n",
      "    \n",
      "    perm(n, k=None, /)\n",
      "        Number of ways to choose k items from n items without repetition and with order.\n",
      "        \n",
      "        Evaluates to n! / (n - k)! when k <= n and evaluates\n",
      "        to zero when k > n.\n",
      "        \n",
      "        If k is not specified or is None, then k defaults to n\n",
      "        and the function returns n!.\n",
      "        \n",
      "        Raises TypeError if either of the arguments are not integers.\n",
      "        Raises ValueError if either of the arguments are negative.\n",
      "    \n",
      "    pow(x, y, /)\n",
      "        Return x**y (x to the power of y).\n",
      "    \n",
      "    prod(iterable, /, *, start=1)\n",
      "        Calculate the product of all the elements in the input iterable.\n",
      "        \n",
      "        The default start value for the product is 1.\n",
      "        \n",
      "        When the iterable is empty, return the start value.  This function is\n",
      "        intended specifically for use with numeric values and may reject\n",
      "        non-numeric types.\n",
      "    \n",
      "    radians(x, /)\n",
      "        Convert angle x from degrees to radians.\n",
      "    \n",
      "    remainder(x, y, /)\n",
      "        Difference between x and the closest integer multiple of y.\n",
      "        \n",
      "        Return x - n*y where n*y is the closest integer multiple of y.\n",
      "        In the case where x is exactly halfway between two multiples of\n",
      "        y, the nearest even value of n is used. The result is always exact.\n",
      "    \n",
      "    sin(x, /)\n",
      "        Return the sine of x (measured in radians).\n",
      "    \n",
      "    sinh(x, /)\n",
      "        Return the hyperbolic sine of x.\n",
      "    \n",
      "    sqrt(x, /)\n",
      "        Return the square root of x.\n",
      "    \n",
      "    tan(x, /)\n",
      "        Return the tangent of x (measured in radians).\n",
      "    \n",
      "    tanh(x, /)\n",
      "        Return the hyperbolic tangent of x.\n",
      "    \n",
      "    trunc(x, /)\n",
      "        Truncates the Real x to the nearest Integral toward 0.\n",
      "        \n",
      "        Uses the __trunc__ magic method.\n",
      "    \n",
      "    ulp(x, /)\n",
      "        Return the value of the least significant bit of the float x.\n",
      "\n",
      "DATA\n",
      "    e = 2.718281828459045\n",
      "    inf = inf\n",
      "    nan = nan\n",
      "    pi = 3.141592653589793\n",
      "    tau = 6.283185307179586\n",
      "\n",
      "FILE\n",
      "    (built-in)\n",
      "\n",
      "\n"
     ]
    }
   ],
   "source": [
    "help(math)"
   ]
  },
  {
   "cell_type": "code",
   "execution_count": 27,
   "id": "13ff8bed",
   "metadata": {},
   "outputs": [
    {
     "name": "stdout",
     "output_type": "stream",
     "text": [
      "The height is 0.644217687237691\n"
     ]
    }
   ],
   "source": [
    "# Dot Notation, math takes arguements in radians not degrees\n",
    "radians = 0.7\n",
    "height = math.sin(radians)\n",
    "print('The height is',height)"
   ]
  },
  {
   "cell_type": "code",
   "execution_count": 30,
   "id": "d6312394",
   "metadata": {},
   "outputs": [
    {
     "data": {
      "text/plain": [
       "0.7853981633974483"
      ]
     },
     "execution_count": 30,
     "metadata": {},
     "output_type": "execute_result"
    }
   ],
   "source": [
    "degrees = 45\n",
    "radians = degrees / 180 * math.pi\n",
    "radians"
   ]
  },
  {
   "cell_type": "code",
   "execution_count": 31,
   "id": "6a175939",
   "metadata": {},
   "outputs": [
    {
     "name": "stdout",
     "output_type": "stream",
     "text": [
      "3.141592653589793\n"
     ]
    }
   ],
   "source": [
    "print(math.pi)"
   ]
  },
  {
   "cell_type": "code",
   "execution_count": 3,
   "id": "da17445a",
   "metadata": {},
   "outputs": [
    {
     "name": "stdout",
     "output_type": "stream",
     "text": [
      "I'm a lumberjack, and I'm okay.\n",
      "I sleep all night and I work all day.\n"
     ]
    }
   ],
   "source": [
    "def print_lyrics():\n",
    "    print(\"I'm a lumberjack, and I'm okay.\")\n",
    "    print(\"I sleep all night and I work all day.\")\n",
    "print_lyrics()"
   ]
  },
  {
   "cell_type": "code",
   "execution_count": 39,
   "id": "d43701ad",
   "metadata": {},
   "outputs": [
    {
     "name": "stdout",
     "output_type": "stream",
     "text": [
      "Hello Rowen\n"
     ]
    }
   ],
   "source": [
    "def hello(name):\n",
    "    print('Hello', name)\n",
    "hello('Rowen')"
   ]
  },
  {
   "cell_type": "code",
   "execution_count": 40,
   "id": "c17ab1ea",
   "metadata": {},
   "outputs": [
    {
     "name": "stdout",
     "output_type": "stream",
     "text": [
      "<function print_lyrics at 0x000001F389CD7B50>\n"
     ]
    }
   ],
   "source": [
    "print(print_lyrics)"
   ]
  },
  {
   "cell_type": "code",
   "execution_count": 41,
   "id": "84d6dcfd",
   "metadata": {},
   "outputs": [
    {
     "data": {
      "text/plain": [
       "function"
      ]
     },
     "execution_count": 41,
     "metadata": {},
     "output_type": "execute_result"
    }
   ],
   "source": [
    "type(print_lyrics)"
   ]
  },
  {
   "cell_type": "code",
   "execution_count": 45,
   "id": "65f4f891",
   "metadata": {},
   "outputs": [
    {
     "name": "stdout",
     "output_type": "stream",
     "text": [
      "I'm a lumberjack, and I'm okay.\n",
      "I sleep all night and I work all day.\n",
      "I'm a lumberjack, and I'm okay.\n",
      "I sleep all night and I work all day.\n",
      "I'm a lumberjack, and I'm okay.\n",
      "I sleep all night and I work all day.\n"
     ]
    }
   ],
   "source": [
    "def repeated_lyrics():\n",
    "    print_lyrics()\n",
    "    print_lyrics()\n",
    "    print_lyrics()\n",
    "    \n",
    "repeated_lyrics()"
   ]
  },
  {
   "cell_type": "code",
   "execution_count": 4,
   "id": "782318a6",
   "metadata": {},
   "outputs": [
    {
     "name": "stdout",
     "output_type": "stream",
     "text": [
      "I'm a lumberjack, and I'm okay.\n",
      "I sleep all night and I work all day.\n",
      "I'm a lumberjack, and I'm okay.\n",
      "I sleep all night and I work all day.\n",
      "I'm a lumberjack, and I'm okay.\n",
      "I sleep all night and I work all day.\n"
     ]
    }
   ],
   "source": [
    "def repeat_lyrics():\n",
    "    for i in range (0,3):\n",
    "        print_lyrics()\n",
    "    \n",
    "repeat_lyrics()"
   ]
  },
  {
   "cell_type": "code",
   "execution_count": 6,
   "id": "6431cebb",
   "metadata": {},
   "outputs": [
    {
     "name": "stdout",
     "output_type": "stream",
     "text": [
      "Help on built-in function sin in module math:\n",
      "\n",
      "sin(x, /)\n",
      "    Return the sine of x (measured in radians).\n",
      "\n"
     ]
    }
   ],
   "source": [
    "import math\n",
    "help(math.sin)"
   ]
  },
  {
   "cell_type": "code",
   "execution_count": 10,
   "id": "664af9ae",
   "metadata": {},
   "outputs": [
    {
     "data": {
      "text/plain": [
       "0.9092974268256817"
      ]
     },
     "execution_count": 10,
     "metadata": {},
     "output_type": "execute_result"
    }
   ],
   "source": [
    "math.sin(2)"
   ]
  },
  {
   "cell_type": "code",
   "execution_count": 14,
   "id": "963fee49",
   "metadata": {},
   "outputs": [
    {
     "name": "stdout",
     "output_type": "stream",
     "text": [
      "Bing tiddle tiddle bang.\n",
      "Bing tiddle tiddle bang.\n"
     ]
    }
   ],
   "source": [
    "def print_twice(bruce):\n",
    "    print(bruce)\n",
    "    print(bruce)\n",
    "\n",
    "def cat_twice(part1, part2):\n",
    "    cat = part1 + part2\n",
    "    print_twice(cat)\n",
    "\n",
    "line1 = 'Bing tiddle '\n",
    "line2 = 'tiddle bang.'\n",
    "\n",
    "cat_twice(line1, line2)"
   ]
  },
  {
   "cell_type": "markdown",
   "id": "e2c41216",
   "metadata": {},
   "source": [
    "# Excercises 3.14"
   ]
  },
  {
   "cell_type": "code",
   "execution_count": 49,
   "id": "07209ca6",
   "metadata": {},
   "outputs": [
    {
     "name": "stdout",
     "output_type": "stream",
     "text": [
      "                                                                  allen\n"
     ]
    }
   ],
   "source": [
    "# Exercise 3.1. Write a function named right_justify that takes a string named s as a parameter\n",
    "# and prints the string with enough leading spaces so that the last letter of the string is in column 70\n",
    "# of the display. Hint: Use string concatenation and repetition. Also, Python provides a built-in function called len\n",
    "# that returns the length of a string, so the value of len('monty') is 5.\n",
    "\n",
    "def right_justify(s):\n",
    "    length = len(s)\n",
    "    num_of_spaces = 70 - length\n",
    "    print(' '*num_of_spaces, s)\n",
    "\n",
    "right_justify('allen')"
   ]
  },
  {
   "cell_type": "code",
   "execution_count": 40,
   "id": "b5df61e5",
   "metadata": {},
   "outputs": [],
   "source": [
    "# Exercise 3.2. A function object is a value you can assign to a variable or pass as an argument. For\n",
    "# example, do_twice is a function that takes a function object as an argument and calls it twice:\n",
    "\n",
    "#def do_twice(f):\n",
    "#    f()\n",
    "#    f()\n",
    "\n",
    "# Here’s an example that uses do_twice to call a function named print_spam twice.\n",
    "    \n",
    "#def print_spam():\n",
    "#    print('spam')\n",
    "\n",
    "#do_twice(print_spam)\n",
    "\n",
    "# 1. Type this example into a script and test it.\n",
    "# 2. Modify do_twice so that it takes two arguments, a function object and a value, and calls the\n",
    "# function twice, passing the value as an argument.\n",
    "# 3. Copy the definition of print_twice from earlier in this chapter to your script.\n",
    "# 4. Use the modified version of do_twice to call print_twice twice, passing 'spam' as an argument.\n",
    "# 5. Define a new function called do_four that takes a function object and a value and calls the\n",
    "# function four times, passing the value as a parameter. There should be only two statements in\n",
    "# the body of this function, not four.\n",
    "\n",
    "def do_twice(f,g):\n",
    "    f(g)\n",
    "    f(g)\n",
    "    \n",
    "def print_twice(g):\n",
    "    print(g)\n",
    "    print(g)\n",
    "\n",
    "def do_four(f,g):\n",
    "    do_twice(f,g)\n",
    "    do_twice(f,g)\n"
   ]
  },
  {
   "cell_type": "code",
   "execution_count": 41,
   "id": "2d8a29c1",
   "metadata": {},
   "outputs": [
    {
     "name": "stdout",
     "output_type": "stream",
     "text": [
      "spam\n",
      "spam\n",
      "spam\n",
      "spam\n"
     ]
    }
   ],
   "source": [
    "do_twice(print_twice,'spam')"
   ]
  },
  {
   "cell_type": "code",
   "execution_count": 42,
   "id": "384dc07e",
   "metadata": {},
   "outputs": [
    {
     "name": "stdout",
     "output_type": "stream",
     "text": [
      "spam\n",
      "spam\n",
      "spam\n",
      "spam\n"
     ]
    }
   ],
   "source": [
    "do_four(print, 'spam') "
   ]
  },
  {
   "cell_type": "code",
   "execution_count": 32,
   "id": "86c39558",
   "metadata": {},
   "outputs": [
    {
     "name": "stdout",
     "output_type": "stream",
     "text": [
      "+ - - - - + - - - - +\n",
      "|         |         |\n",
      "|         |         |\n",
      "|         |         |\n",
      "|         |         |\n",
      "+ - - - - + - - - - +\n",
      "|         |         |\n",
      "|         |         |\n",
      "|         |         |\n",
      "|         |         |\n",
      "+ - - - - + - - - - +\n"
     ]
    }
   ],
   "source": [
    "#  Write a function that draws a grid like the following:\n",
    "# + - - - - + - - - - +\n",
    "# |         |         |\n",
    "# |         |         |\n",
    "# |         |         |\n",
    "# |         |         |\n",
    "# + - - - - + - - - - +\n",
    "# |         |         |\n",
    "# |         |         |\n",
    "# |         |         |\n",
    "# |         |         |\n",
    "# + - - - - + - - - - +\n",
    "# Hint: to print more than one value on a line, you can print a comma-separated sequence of values:\n",
    "    # print('+', '-')\n",
    "# By default, print advances to the next line, but you can override that behavior and put a\n",
    "# space at the end, like this:\n",
    "    # print('+', end=' ')\n",
    "    # print('-')\n",
    "# The output of these statements is '+ -' on the same line. The output from the next print\n",
    "# statement would begin on the next line.\n",
    "\n",
    "def grid():\n",
    "    for i in range(2):\n",
    "        print('+ - - - - +', end='')\n",
    "        print('','- - - - +')\n",
    "    \n",
    "        for i in range(4):\n",
    "            print('|         |         |')\n",
    "    print('+ - - - - + - - - - +')\n",
    "    \n",
    "grid()    "
   ]
  },
  {
   "cell_type": "code",
   "execution_count": 94,
   "id": "226285bf",
   "metadata": {},
   "outputs": [
    {
     "name": "stdout",
     "output_type": "stream",
     "text": [
      "+ - - - - + - - - - +\n",
      "|         |         |\n",
      "|         |         |\n",
      "|         |         |\n",
      "|         |         |\n",
      "+ - - - - + - - - - +\n",
      "|         |         |\n",
      "|         |         |\n",
      "|         |         |\n",
      "|         |         |\n",
      "+ - - - - + - - - - +\n",
      "|         |         |\n",
      "|         |         |\n",
      "|         |         |\n",
      "|         |         |\n",
      "+ - - - - + - - - - +\n"
     ]
    }
   ],
   "source": [
    "# Write a function that draws a similar grid with four rows and four columns\n",
    "\n",
    "def grid(rows,columns):\n",
    "\n",
    "    for i in range(rows): # will print the pattern equal to the number of rows\n",
    "        \n",
    "        for i in range(columns): #prints the +- pattern equal to the number of columns given\n",
    "            print('+ - - - - ', end='')\n",
    "        print('+')\n",
    "\n",
    "        for i in range(4): #will print the | pattern equal to the number of columns, and will do this 4 times\n",
    "            for i in range (columns): #number of columns\n",
    "                print('|',' ',' ',' ',' ','',end='')\n",
    "            print('|')\n",
    "\n",
    "    for i in range(columns): #prints the bottom +- pattern equal to the number of columns\n",
    "        print('+ - - - - ', end='')\n",
    "    print('+')\n",
    "    \n",
    "grid(rows=3,columns=2)"
   ]
  },
  {
   "cell_type": "code",
   "execution_count": 95,
   "id": "da60342c",
   "metadata": {},
   "outputs": [
    {
     "name": "stdout",
     "output_type": "stream",
     "text": [
      "+ - - - - + - - - - + - - - - + - - - - +\n",
      "|         |         |         |         |\n",
      "|         |         |         |         |\n",
      "|         |         |         |         |\n",
      "|         |         |         |         |\n",
      "+ - - - - + - - - - + - - - - + - - - - +\n",
      "|         |         |         |         |\n",
      "|         |         |         |         |\n",
      "|         |         |         |         |\n",
      "|         |         |         |         |\n",
      "+ - - - - + - - - - + - - - - + - - - - +\n",
      "|         |         |         |         |\n",
      "|         |         |         |         |\n",
      "|         |         |         |         |\n",
      "|         |         |         |         |\n",
      "+ - - - - + - - - - + - - - - + - - - - +\n",
      "|         |         |         |         |\n",
      "|         |         |         |         |\n",
      "|         |         |         |         |\n",
      "|         |         |         |         |\n",
      "+ - - - - + - - - - + - - - - + - - - - +\n"
     ]
    }
   ],
   "source": [
    "grid(rows=4,columns=4)"
   ]
  },
  {
   "cell_type": "code",
   "execution_count": 96,
   "id": "7c3cc7c2",
   "metadata": {},
   "outputs": [
    {
     "name": "stdout",
     "output_type": "stream",
     "text": [
      "+ - - - - +\n",
      "|         |\n",
      "|         |\n",
      "|         |\n",
      "|         |\n",
      "+ - - - - +\n"
     ]
    }
   ],
   "source": [
    "grid(rows=1,columns=1)"
   ]
  },
  {
   "cell_type": "code",
   "execution_count": 21,
   "id": "a0821d99",
   "metadata": {},
   "outputs": [
    {
     "name": "stdout",
     "output_type": "stream",
     "text": [
      " + - - - - +\n",
      " |         |\n",
      " |         |\n",
      " |         |\n",
      " |         |\n",
      " + - - - - +\n",
      "\n"
     ]
    }
   ],
   "source": [
    "#another possibility\n",
    "\n",
    "def print_straight_slash_line(lines):\n",
    "    print(lines)\n",
    "    print(lines)\n",
    "    print(lines)\n",
    "    print(lines)\n",
    "\n",
    "def grid_plus_line(num_of_columns):    \n",
    "    columns = (' + - - - -')*num_of_columns + ' +'\n",
    "    print(columns)\n",
    "    \n",
    "def grid_row(num_of_columns):\n",
    "    grid_plus_line(num_of_columns)\n",
    "    \n",
    "    lines = (' |        ')*num_of_columns + ' |'\n",
    "    print_straight_slash_line(lines)\n",
    "    \n",
    "def grid_rows(num_of_rows, num_of_columns):\n",
    "    while num_of_rows > 1:\n",
    "        grid_row(num_of_columns) \n",
    "        num_of_rows -=1\n",
    "      \n",
    "def grid(num_of_rows, num_of_columns):\n",
    "    grid_row(num_of_columns)\n",
    "    grid_rows(num_of_rows, num_of_columns)\n",
    "    grid_plus_line(num_of_columns)\n",
    "    \n",
    "    \n",
    "grid(1,1)\n",
    "print()\n"
   ]
  },
  {
   "cell_type": "code",
   "execution_count": 97,
   "id": "cc738562",
   "metadata": {},
   "outputs": [
    {
     "name": "stdout",
     "output_type": "stream",
     "text": [
      "+ - - - - + - - - - +\n",
      "|         |         |\n",
      "|         |         |\n",
      "|         |         |\n",
      "|         |         |\n",
      "+ - - - - + - - - - +\n",
      "|         |         |\n",
      "|         |         |\n",
      "|         |         |\n",
      "|         |         |\n",
      "+ - - - - + - - - - +\n"
     ]
    }
   ],
   "source": [
    "# another possibility\n",
    "\n",
    "def do_twice(f):\n",
    "    f()\n",
    "    f()\n",
    "\n",
    "def do_four(f):\n",
    "    do_twice(f)\n",
    "    do_twice(f)\n",
    "\n",
    "def print_beam():\n",
    "    print('+ - - - -', end=' ')\n",
    "\n",
    "def print_post():\n",
    "    print('|        ', end=' ')\n",
    "\n",
    "def print_beams():\n",
    "    do_twice(print_beam)\n",
    "    print('+')\n",
    "\n",
    "def print_posts():\n",
    "    do_twice(print_post)\n",
    "    print('|')\n",
    "\n",
    "def print_row():\n",
    "    print_beams()\n",
    "    do_four(print_posts)\n",
    "\n",
    "def print_grid():\n",
    "    do_twice(print_row)\n",
    "    print_beams()\n",
    "\n",
    "print_grid()"
   ]
  },
  {
   "cell_type": "code",
   "execution_count": 98,
   "id": "092c99f2",
   "metadata": {},
   "outputs": [
    {
     "name": "stdout",
     "output_type": "stream",
     "text": [
      "+ - - - - + - - - - + - - - - + - - - - + \n",
      "|         |         |         |         | \n",
      "|         |         |         |         | \n",
      "|         |         |         |         | \n",
      "|         |         |         |         | \n",
      "+ - - - - + - - - - + - - - - + - - - - + \n",
      "|         |         |         |         | \n",
      "|         |         |         |         | \n",
      "|         |         |         |         | \n",
      "|         |         |         |         | \n",
      "+ - - - - + - - - - + - - - - + - - - - + \n",
      "|         |         |         |         | \n",
      "|         |         |         |         | \n",
      "|         |         |         |         | \n",
      "|         |         |         |         | \n",
      "+ - - - - + - - - - + - - - - + - - - - + \n",
      "|         |         |         |         | \n",
      "|         |         |         |         | \n",
      "|         |         |         |         | \n",
      "|         |         |         |         | \n",
      "+ - - - - + - - - - + - - - - + - - - - + \n"
     ]
    }
   ],
   "source": [
    "def one_four_one(f, g, h):\n",
    "    f()\n",
    "    do_four(g)\n",
    "    h()\n",
    "\n",
    "def print_plus():\n",
    "    print('+', end=' ')\n",
    "\n",
    "def print_dash():\n",
    "    print('-', end=' ')\n",
    "\n",
    "def print_bar():\n",
    "    print('|', end=' ')\n",
    "\n",
    "def print_space():\n",
    "    print(' ', end=' ')\n",
    "\n",
    "def print_end():\n",
    "    print()\n",
    "\n",
    "def nothing():\n",
    "    \"do nothing\"\n",
    "\n",
    "def print1beam():\n",
    "    one_four_one(nothing, print_dash, print_plus)\n",
    "\n",
    "def print1post():\n",
    "    one_four_one(nothing, print_space, print_bar)\n",
    "\n",
    "def print4beams():\n",
    "    one_four_one(print_plus, print1beam, print_end)\n",
    "\n",
    "def print4posts():\n",
    "    one_four_one(print_bar, print1post, print_end)\n",
    "\n",
    "def print_row():\n",
    "    one_four_one(nothing, print4posts, print4beams)\n",
    "\n",
    "def print_grid():\n",
    "    one_four_one(print4beams, print_row, nothing)\n",
    "\n",
    "print_grid()"
   ]
  },
  {
   "cell_type": "code",
   "execution_count": null,
   "id": "d6309d50",
   "metadata": {},
   "outputs": [],
   "source": []
  }
 ],
 "metadata": {
  "kernelspec": {
   "display_name": "Python 3 (ipykernel)",
   "language": "python",
   "name": "python3"
  },
  "language_info": {
   "codemirror_mode": {
    "name": "ipython",
    "version": 3
   },
   "file_extension": ".py",
   "mimetype": "text/x-python",
   "name": "python",
   "nbconvert_exporter": "python",
   "pygments_lexer": "ipython3",
   "version": "3.10.7"
  }
 },
 "nbformat": 4,
 "nbformat_minor": 5
}
