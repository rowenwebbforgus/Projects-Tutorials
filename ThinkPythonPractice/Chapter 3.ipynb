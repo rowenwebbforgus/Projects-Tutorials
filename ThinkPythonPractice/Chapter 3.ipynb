{
 "cells": [
  {
   "cell_type": "code",
   "execution_count": 2,
   "id": "d013e97d",
   "metadata": {},
   "outputs": [],
   "source": [
    "import math\n",
    "import datetime"
   ]
  },
  {
   "cell_type": "code",
   "execution_count": 7,
   "id": "df935973",
   "metadata": {},
   "outputs": [
    {
     "name": "stdout",
     "output_type": "stream",
     "text": [
      "The height is 0.644217687237691\n"
     ]
    }
   ],
   "source": [
    "# Dot Notation, math takes arguements in radians not degrees\n",
    "radians = 0.7\n",
    "height = math.sin(radians)\n",
    "print('The height is',height)"
   ]
  },
  {
   "cell_type": "code",
   "execution_count": 8,
   "id": "30c0e784",
   "metadata": {},
   "outputs": [
    {
     "data": {
      "text/plain": [
       "0.7853981633974483"
      ]
     },
     "execution_count": 8,
     "metadata": {},
     "output_type": "execute_result"
    }
   ],
   "source": [
    "degrees = 45\n",
    "radians = degrees / 180 * math.pi\n",
    "radians"
   ]
  },
  {
   "cell_type": "code",
   "execution_count": 10,
   "id": "a94aec3c",
   "metadata": {},
   "outputs": [
    {
     "name": "stdout",
     "output_type": "stream",
     "text": [
      "I'm a lumberjack, and I'm okay.\n",
      "I sleep all night and I work all day.\n"
     ]
    }
   ],
   "source": [
    "def print_lyrics():\n",
    "    print(\"I'm a lumberjack, and I'm okay.\")\n",
    "    print(\"I sleep all night and I work all day.\")\n",
    "print_lyrics()"
   ]
  },
  {
   "cell_type": "code",
   "execution_count": 14,
   "id": "c98fc2ea",
   "metadata": {},
   "outputs": [
    {
     "name": "stdout",
     "output_type": "stream",
     "text": [
      "I'm a lumberjack, and I'm okay.\n",
      "I sleep all night and I work all day.\n",
      "I'm a lumberjack, and I'm okay.\n",
      "I sleep all night and I work all day.\n",
      "I'm a lumberjack, and I'm okay.\n",
      "I sleep all night and I work all day.\n"
     ]
    }
   ],
   "source": [
    "def repeated_lyrics():\n",
    "    print_lyrics()\n",
    "    print_lyrics()\n",
    "    print_lyrics()\n",
    "    \n",
    "repeated_lyrics()"
   ]
  },
  {
   "cell_type": "code",
   "execution_count": 15,
   "id": "efdc4717",
   "metadata": {},
   "outputs": [
    {
     "name": "stdout",
     "output_type": "stream",
     "text": [
      "I'm a lumberjack, and I'm okay.\n",
      "I sleep all night and I work all day.\n",
      "I'm a lumberjack, and I'm okay.\n",
      "I sleep all night and I work all day.\n",
      "I'm a lumberjack, and I'm okay.\n",
      "I sleep all night and I work all day.\n"
     ]
    }
   ],
   "source": [
    "def repeat_lyrics():\n",
    "    for i in range (0,3):\n",
    "        print_lyrics()\n",
    "    \n",
    "repeat_lyrics()"
   ]
  },
  {
   "cell_type": "code",
   "execution_count": 18,
   "id": "455cc978",
   "metadata": {},
   "outputs": [
    {
     "name": "stdout",
     "output_type": "stream",
     "text": [
      "Bing tiddle tiddle bang.\n",
      "Bing tiddle tiddle bang.\n"
     ]
    }
   ],
   "source": [
    "def print_twice(bruce):\n",
    "    print(bruce)\n",
    "    print(bruce)\n",
    "\n",
    "def cat_twice(part1, part2):\n",
    "    cat = part1 + part2\n",
    "    print_twice(cat)\n",
    "\n",
    "line1 = 'Bing tiddle '\n",
    "line2 = 'tiddle bang.'\n",
    "\n",
    "cat_twice(line1, line2)"
   ]
  },
  {
   "cell_type": "markdown",
   "id": "a64e86eb",
   "metadata": {},
   "source": [
    "# Excercises 3.14"
   ]
  },
  {
   "cell_type": "code",
   "execution_count": 19,
   "id": "99430652",
   "metadata": {},
   "outputs": [
    {
     "name": "stdout",
     "output_type": "stream",
     "text": [
      "                                                                  allen\n"
     ]
    }
   ],
   "source": [
    "# Exercise 3.1. Write a function named right_justify that takes a string named s as a parameter\n",
    "# and prints the string with enough leading spaces so that the last letter of the string is in column 70\n",
    "# of the display. Hint: Use string concatenation and repetition. Also, Python provides a built-in function called len\n",
    "# that returns the length of a string, so the value of len('monty') is 5.\n",
    "\n",
    "def right_justify(s):\n",
    "    length = len(s)\n",
    "    num_of_spaces = 70 - length\n",
    "    print(' '*num_of_spaces, s)\n",
    "\n",
    "right_justify('allen')"
   ]
  },
  {
   "cell_type": "code",
   "execution_count": 20,
   "id": "a57073ca",
   "metadata": {},
   "outputs": [],
   "source": [
    "# Exercise 3.2. A function object is a value you can assign to a variable or pass as an argument. For\n",
    "# example, do_twice is a function that takes a function object as an argument and calls it twice:\n",
    "\n",
    "#def do_twice(f):\n",
    "#    f()\n",
    "#    f()\n",
    "\n",
    "# Here’s an example that uses do_twice to call a function named print_spam twice.\n",
    "    \n",
    "#def print_spam():\n",
    "#    print('spam')\n",
    "\n",
    "#do_twice(print_spam)\n",
    "\n",
    "# 1. Type this example into a script and test it.\n",
    "# 2. Modify do_twice so that it takes two arguments, a function object and a value, and calls the\n",
    "# function twice, passing the value as an argument.\n",
    "# 3. Copy the definition of print_twice from earlier in this chapter to your script.\n",
    "# 4. Use the modified version of do_twice to call print_twice twice, passing 'spam' as an argument.\n",
    "# 5. Define a new function called do_four that takes a function object and a value and calls the\n",
    "# function four times, passing the value as a parameter. There should be only two statements in\n",
    "# the body of this function, not four.\n",
    "\n",
    "def do_twice(f,g):\n",
    "    f(g)\n",
    "    f(g)\n",
    "    \n",
    "def print_twice(g):\n",
    "    print(g)\n",
    "    print(g)\n",
    "\n",
    "def do_four(f,g):\n",
    "    do_twice(f,g)\n",
    "    do_twice(f,g)"
   ]
  },
  {
   "cell_type": "code",
   "execution_count": 21,
   "id": "ddb2d2bb",
   "metadata": {},
   "outputs": [
    {
     "name": "stdout",
     "output_type": "stream",
     "text": [
      "spam\n",
      "spam\n",
      "spam\n",
      "spam\n"
     ]
    }
   ],
   "source": [
    "do_twice(print_twice,'spam')\n"
   ]
  },
  {
   "cell_type": "code",
   "execution_count": 22,
   "id": "ddfc222f",
   "metadata": {},
   "outputs": [
    {
     "name": "stdout",
     "output_type": "stream",
     "text": [
      "spam\n",
      "spam\n",
      "spam\n",
      "spam\n"
     ]
    }
   ],
   "source": [
    "do_four(print, 'spam') \n"
   ]
  },
  {
   "cell_type": "code",
   "execution_count": 23,
   "id": "ad06654b",
   "metadata": {},
   "outputs": [
    {
     "name": "stdout",
     "output_type": "stream",
     "text": [
      "+ - - - - + - - - - +\n",
      "|         |         |\n",
      "|         |         |\n",
      "|         |         |\n",
      "|         |         |\n",
      "+ - - - - + - - - - +\n",
      "|         |         |\n",
      "|         |         |\n",
      "|         |         |\n",
      "|         |         |\n",
      "+ - - - - + - - - - +\n"
     ]
    }
   ],
   "source": [
    "#  Write a function that draws a grid like the following:\n",
    "# + - - - - + - - - - +\n",
    "# |         |         |\n",
    "# |         |         |\n",
    "# |         |         |\n",
    "# |         |         |\n",
    "# + - - - - + - - - - +\n",
    "# |         |         |\n",
    "# |         |         |\n",
    "# |         |         |\n",
    "# |         |         |\n",
    "# + - - - - + - - - - +\n",
    "# Hint: to print more than one value on a line, you can print a comma-separated sequence of values:\n",
    "    # print('+', '-')\n",
    "# By default, print advances to the next line, but you can override that behavior and put a\n",
    "# space at the end, like this:\n",
    "    # print('+', end=' ')\n",
    "    # print('-')\n",
    "# The output of these statements is '+ -' on the same line. The output from the next print\n",
    "# statement would begin on the next line.\n",
    "\n",
    "def grid():\n",
    "    for i in range(2):\n",
    "        print('+ - - - - +', end='')\n",
    "        print('','- - - - +')\n",
    "    \n",
    "        for i in range(4):\n",
    "            print('|         |         |')\n",
    "    print('+ - - - - + - - - - +')\n",
    "    \n",
    "grid()"
   ]
  },
  {
   "cell_type": "code",
   "execution_count": 24,
   "id": "088d2934",
   "metadata": {},
   "outputs": [
    {
     "name": "stdout",
     "output_type": "stream",
     "text": [
      "+ - - - - + - - - - +\n",
      "|         |         |\n",
      "|         |         |\n",
      "|         |         |\n",
      "|         |         |\n",
      "+ - - - - + - - - - +\n",
      "|         |         |\n",
      "|         |         |\n",
      "|         |         |\n",
      "|         |         |\n",
      "+ - - - - + - - - - +\n",
      "|         |         |\n",
      "|         |         |\n",
      "|         |         |\n",
      "|         |         |\n",
      "+ - - - - + - - - - +\n"
     ]
    }
   ],
   "source": [
    "# Write a function that draws a similar grid with four rows and four columns\n",
    "\n",
    "def grid(rows,columns):\n",
    "\n",
    "    for i in range(rows): # will print the pattern equal to the number of rows\n",
    "        \n",
    "        for i in range(columns): #prints the +- pattern equal to the number of columns given\n",
    "            print('+ - - - - ', end='')\n",
    "        print('+')\n",
    "\n",
    "        for i in range(4): #will print the | pattern equal to the number of columns, and will do this 4 times\n",
    "            for i in range (columns): #number of columns\n",
    "                print('|',' ',' ',' ',' ','',end='')\n",
    "            print('|')\n",
    "\n",
    "    for i in range(columns): #prints the bottom +- pattern equal to the number of columns\n",
    "        print('+ - - - - ', end='')\n",
    "    print('+')\n",
    "    \n",
    "grid(rows=3,columns=2)"
   ]
  },
  {
   "cell_type": "code",
   "execution_count": 25,
   "id": "33cffdcc",
   "metadata": {},
   "outputs": [
    {
     "name": "stdout",
     "output_type": "stream",
     "text": [
      "+ - - - - + - - - - + - - - - + - - - - +\n",
      "|         |         |         |         |\n",
      "|         |         |         |         |\n",
      "|         |         |         |         |\n",
      "|         |         |         |         |\n",
      "+ - - - - + - - - - + - - - - + - - - - +\n",
      "|         |         |         |         |\n",
      "|         |         |         |         |\n",
      "|         |         |         |         |\n",
      "|         |         |         |         |\n",
      "+ - - - - + - - - - + - - - - + - - - - +\n",
      "|         |         |         |         |\n",
      "|         |         |         |         |\n",
      "|         |         |         |         |\n",
      "|         |         |         |         |\n",
      "+ - - - - + - - - - + - - - - + - - - - +\n",
      "|         |         |         |         |\n",
      "|         |         |         |         |\n",
      "|         |         |         |         |\n",
      "|         |         |         |         |\n",
      "+ - - - - + - - - - + - - - - + - - - - +\n"
     ]
    }
   ],
   "source": [
    "grid(rows=4,columns=4)\n"
   ]
  },
  {
   "cell_type": "code",
   "execution_count": 26,
   "id": "3d14945a",
   "metadata": {},
   "outputs": [
    {
     "name": "stdout",
     "output_type": "stream",
     "text": [
      "+ - - - - +\n",
      "|         |\n",
      "|         |\n",
      "|         |\n",
      "|         |\n",
      "+ - - - - +\n"
     ]
    }
   ],
   "source": [
    "grid(rows=1,columns=1)\n"
   ]
  },
  {
   "cell_type": "code",
   "execution_count": null,
   "id": "2dc659d3",
   "metadata": {},
   "outputs": [],
   "source": []
  }
 ],
 "metadata": {
  "kernelspec": {
   "display_name": "Python 3 (ipykernel)",
   "language": "python",
   "name": "python3"
  },
  "language_info": {
   "codemirror_mode": {
    "name": "ipython",
    "version": 3
   },
   "file_extension": ".py",
   "mimetype": "text/x-python",
   "name": "python",
   "nbconvert_exporter": "python",
   "pygments_lexer": "ipython3",
   "version": "3.10.7"
  }
 },
 "nbformat": 4,
 "nbformat_minor": 5
}
