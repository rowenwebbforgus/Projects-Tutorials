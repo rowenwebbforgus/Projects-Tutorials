{
 "cells": [
  {
   "cell_type": "markdown",
   "id": "e78376ad",
   "metadata": {},
   "source": [
    "# 4.3 Excercises"
   ]
  },
  {
   "cell_type": "code",
   "execution_count": 1,
   "id": "ff375b68",
   "metadata": {},
   "outputs": [
    {
     "name": "stdout",
     "output_type": "stream",
     "text": [
      "<turtle.Turtle object at 0x0000023B7EF5FA00>\n"
     ]
    }
   ],
   "source": [
    "# Write a function called square that takes a parameter named t, which is a turtle. It\n",
    "# should use the turtle to draw a square.\n",
    "# Write a function call that passes bob as an argument to square, and then run the\n",
    "# program again.\n",
    "\n",
    "\n",
    "import turtle\n",
    "bob = turtle.Turtle()\n",
    "print(bob)\n",
    "\n",
    "def square(t):\n",
    "    for i in range(4):\n",
    "        t.fd(100)\n",
    "        t.lt(90)\n",
    "    turtle.mainloop()\n",
    "    \n",
    "square(bob)"
   ]
  },
  {
   "cell_type": "code",
   "execution_count": 1,
   "id": "0715c9cf",
   "metadata": {},
   "outputs": [],
   "source": [
    "# Add another parameter, named length, to square. Modify the body so length of the\n",
    "# sides is length, and then modify the function call to provide a second argument. Run\n",
    "# the program again. Test your program with a range of values for length.\n",
    "\n",
    "import turtle\n",
    "bob = turtle.Turtle()\n",
    "\n",
    "def square(t, length):\n",
    "    for i in range(4):\n",
    "        turtle.fd(length)\n",
    "        turtle.lt(90)\n",
    "    \n",
    "square(t=bob,length=50)"
   ]
  },
  {
   "cell_type": "code",
   "execution_count": 1,
   "id": "0cdfca74",
   "metadata": {},
   "outputs": [],
   "source": [
    "# Make a copy of square and change the name to polygon. Add another parameter\n",
    "# named n and modify the body so it draws an n-sided regular polygon. Hint: The\n",
    "# exterior angles of an n-sided regular polygon are 360/n degrees.\n",
    "\n",
    "import turtle\n",
    "bob = turtle.Turtle()\n",
    "\n",
    "def polygon(t, length,n):\n",
    "    angle = 360/n\n",
    "    for i in range(n):\n",
    "        turtle.fd(length)\n",
    "        turtle.lt(angle)\n",
    "    \n",
    "polygon(t=bob,length=100,n=3)"
   ]
  },
  {
   "cell_type": "code",
   "execution_count": 1,
   "id": "7c632abc",
   "metadata": {},
   "outputs": [],
   "source": [
    "# Write a function called circle that takes a turtle, t, and radius, r, as parameters and\n",
    "# that draws an approximate circle by calling polygon with an appropriate length and\n",
    "# number of sides. Test your function with a range of values of r.\n",
    "# Hint: figure out the circumference of the circle and make sure that length * n = circumference.\n",
    "\n",
    "import turtle\n",
    "import math\n",
    "bob = turtle.Turtle()\n",
    "\n",
    "def circle(t, n, radius):\n",
    "    circumference = 2 * math.pi * radius\n",
    "    length = circumference / n\n",
    "    for i in range(n):\n",
    "            turtle.fd(length)\n",
    "            turtle.lt(360/n)\n",
    "    turtle.mainloop()\n",
    "    \n",
    "circle(t=bob,n=60,radius=100)"
   ]
  },
  {
   "cell_type": "code",
   "execution_count": 1,
   "id": "f8254ff8",
   "metadata": {},
   "outputs": [],
   "source": [
    "import turtle\n",
    "import math\n",
    "bob = turtle.Turtle()\n",
    "\n",
    "def polygon(t, length,n):\n",
    "    angle = 360/n\n",
    "    for i in range(n):\n",
    "        turtle.fd(length)\n",
    "        turtle.lt(angle)\n",
    "        \n",
    "polygon(t=bob,length=50,n=5)\n"
   ]
  },
  {
   "cell_type": "code",
   "execution_count": null,
   "id": "6a639b39",
   "metadata": {},
   "outputs": [],
   "source": [
    "# Make a more general version of circle called arc that takes an additional parameter\n",
    "# angle, which determines what fraction of a circle to draw. angle is in units of degrees,\n",
    "# so when angle=360, arc should draw a complete circle.\n",
    "\n",
    "import turtle\n",
    "import math\n",
    "bob = turtle.Turtle()\n",
    "\n",
    "bob.begin_fill()\n",
    "\n",
    "def arc(t, radius,angle):\n",
    "    circumference = 2 * math.pi * radius\n",
    "    n = 60\n",
    "    length = circumference / n\n",
    "    s = angle / 6\n",
    "    for i in range(int(s)):\n",
    "            turtle.fd(length)\n",
    "            turtle.lt(360/n)\n",
    "    turtle.mainloop()\n",
    "    \n",
    "arc(bob,50,90)\n",
    "\n",
    "bob.end_fill()\n",
    "turtle.done()"
   ]
  },
  {
   "cell_type": "code",
   "execution_count": null,
   "id": "fac55817",
   "metadata": {},
   "outputs": [],
   "source": [
    "# Make a more general version of circle called arc that takes an additional parameter\n",
    "# angle, which determines what fraction of a circle to draw. angle is in units of degrees,\n",
    "# so when angle=360, arc should draw a complete circle.\n",
    "\n",
    "import turtle\n",
    "import math\n",
    "bob = turtle.Turtle()\n",
    "\n",
    "bob.begin_fill()\n",
    "\n",
    "def arc(t, radius,angle):\n",
    "    circumference = 2 * math.pi * radius\n",
    "    n = 60\n",
    "    length = circumference / n\n",
    "    s = angle / 6\n",
    "    for i in range(int(s)):\n",
    "            turtle.fd(length)\n",
    "            turtle.lt(360/n)\n",
    "    turtle.mainloop()\n",
    "    \n",
    "arc(bob,50,90)\n",
    "\n",
    "bob.end_fill()\n",
    "turtle.done()"
   ]
  },
  {
   "cell_type": "code",
   "execution_count": null,
   "id": "9f98ce56",
   "metadata": {},
   "outputs": [],
   "source": []
  }
 ],
 "metadata": {
  "kernelspec": {
   "display_name": "Python 3 (ipykernel)",
   "language": "python",
   "name": "python3"
  },
  "language_info": {
   "codemirror_mode": {
    "name": "ipython",
    "version": 3
   },
   "file_extension": ".py",
   "mimetype": "text/x-python",
   "name": "python",
   "nbconvert_exporter": "python",
   "pygments_lexer": "ipython3",
   "version": "3.10.7"
  }
 },
 "nbformat": 4,
 "nbformat_minor": 5
}
