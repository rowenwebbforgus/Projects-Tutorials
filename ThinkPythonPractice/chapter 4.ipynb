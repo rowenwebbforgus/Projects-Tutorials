{
 "cells": [
  {
   "cell_type": "code",
   "execution_count": 1,
   "id": "5b3b3a03",
   "metadata": {},
   "outputs": [],
   "source": [
    "import turtle\n",
    "\n",
    "\n",
    "turtle.fd(100)\n",
    "\n",
    "turtle.lt(90)\n",
    "turtle.fd(100)\n",
    "\n",
    "turtle.lt(90)\n",
    "turtle.fd(100)\n",
    "\n",
    "turtle.lt(90)\n",
    "turtle.fd(100)\n",
    "    \n",
    "turtle.mainloop()\n"
   ]
  },
  {
   "cell_type": "code",
   "execution_count": 4,
   "id": "5ff97f13",
   "metadata": {},
   "outputs": [
    {
     "name": "stdout",
     "output_type": "stream",
     "text": [
      "Hello!\n",
      "Hello!\n",
      "Hello!\n",
      "Hello!\n"
     ]
    }
   ],
   "source": [
    "for i in range(4):\n",
    "    print('Hello!')"
   ]
  },
  {
   "cell_type": "code",
   "execution_count": 1,
   "id": "0b343178",
   "metadata": {},
   "outputs": [],
   "source": [
    "import turtle\n",
    "\n",
    "bob = turtle.Turtle()\n",
    "\n",
    "for i in range(4):\n",
    "    bob.fd(100)\n",
    "    bob.lt(90)\n",
    "    \n",
    "for i in range(4):\n",
    "    bob.rt(90)\n",
    "    bob.fd(100)\n",
    "    \n",
    "for i in range(4):\n",
    "    bob.lt(90) \n",
    "    bob.fd(100)\n",
    "    \n",
    "bob.rt(90)\n",
    "bob.fd(100)\n",
    "\n",
    "for i in range (3):\n",
    "    bob.lt(90) \n",
    "    bob.fd(100)\n",
    "    \n",
    "turtle.mainloop()"
   ]
  },
  {
   "cell_type": "markdown",
   "id": "ecb2df8b",
   "metadata": {},
   "source": [
    "# 4.3 Excercises "
   ]
  },
  {
   "cell_type": "code",
   "execution_count": 1,
   "id": "d972815d",
   "metadata": {},
   "outputs": [
    {
     "name": "stdout",
     "output_type": "stream",
     "text": [
      "<turtle.Turtle object at 0x000001DAF71B4610>\n"
     ]
    }
   ],
   "source": [
    "# Write a function called square that takes a parameter named t, which is a turtle. It\n",
    "# should use the turtle to draw a square.\n",
    "# Write a function call that passes bob as an argument to square, and then run the\n",
    "# program again.\n",
    "\n",
    "\n",
    "import turtle\n",
    "bob = turtle.Turtle()\n",
    "print(bob)\n",
    "\n",
    "def square(t):\n",
    "    for i in range(4):\n",
    "        t.fd(100)\n",
    "        t.lt(90)\n",
    "    turtle.mainloop()\n",
    "    \n",
    "square(bob)"
   ]
  },
  {
   "cell_type": "code",
   "execution_count": 1,
   "id": "825051c5",
   "metadata": {},
   "outputs": [],
   "source": [
    "# Add another parameter, named length, to square. Modify the body so length of the\n",
    "# sides is length, and then modify the function call to provide a second argument. Run\n",
    "# the program again. Test your program with a range of values for length.\n",
    "\n",
    "import turtle\n",
    "bob = turtle.Turtle()\n",
    "\n",
    "def square(t, length):\n",
    "    for i in range(4):\n",
    "        turtle.fd(length)\n",
    "        turtle.lt(90)\n",
    "    \n",
    "square(t=bob,length=50)\n"
   ]
  },
  {
   "cell_type": "code",
   "execution_count": 1,
   "id": "2b4c76b7",
   "metadata": {},
   "outputs": [],
   "source": [
    "# Make a copy of square and change the name to polygon. Add another parameter\n",
    "# named n and modify the body so it draws an n-sided regular polygon. Hint: The\n",
    "# exterior angles of an n-sided regular polygon are 360/n degrees.\n",
    "\n",
    "import turtle\n",
    "bob = turtle.Turtle()\n",
    "\n",
    "def polygon(t, length,n):\n",
    "    angle = 360/n\n",
    "    for i in range(n):\n",
    "        turtle.fd(length)\n",
    "        turtle.lt(angle)\n",
    "    \n",
    "polygon(t=bob,length=100,n=3)\n"
   ]
  },
  {
   "cell_type": "code",
   "execution_count": null,
   "id": "82dc18ec",
   "metadata": {},
   "outputs": [],
   "source": [
    "# Write a function called circle that takes a turtle, t, and radius, r, as parameters and\n",
    "# that draws an approximate circle by calling polygon with an appropriate length and\n",
    "# number of sides. Test your function with a range of values of r.\n",
    "# Hint: figure out the circumference of the circle and make sure that length * n = circumference.\n",
    "\n",
    "import turtle\n",
    "import math\n",
    "bob = turtle.Turtle()\n",
    "\n",
    "def circle(t, n, radius):\n",
    "    circumference = 2 * math.pi * radius\n",
    "    length = circumference / n\n",
    "    for i in range(n):\n",
    "            turtle.fd(length)\n",
    "            turtle.lt(360/n)\n",
    "    turtle.mainloop()\n",
    "    \n",
    "circle(t=bob,n=60,radius=100)"
   ]
  },
  {
   "cell_type": "code",
   "execution_count": 1,
   "id": "8b121a17",
   "metadata": {},
   "outputs": [],
   "source": [
    "import turtle\n",
    "import math\n",
    "bob = turtle.Turtle()\n",
    "\n",
    "def polygon(t, length,n):\n",
    "    angle = 360/n\n",
    "    for i in range(n):\n",
    "        turtle.fd(length)\n",
    "        turtle.lt(angle)\n",
    "        \n",
    "polygon(t=bob,length=50,n=5)\n",
    "\n",
    "\n"
   ]
  },
  {
   "cell_type": "code",
   "execution_count": null,
   "id": "71c84985",
   "metadata": {},
   "outputs": [],
   "source": [
    "# Make a more general version of circle called arc that takes an additional parameter\n",
    "# angle, which determines what fraction of a circle to draw. angle is in units of degrees,\n",
    "# so when angle=360, arc should draw a complete circle.\n",
    "\n",
    "import turtle\n",
    "import math\n",
    "bob = turtle.Turtle()\n",
    "\n",
    "bob.begin_fill()\n",
    "\n",
    "def arc(t, radius,angle):\n",
    "    circumference = 2 * math.pi * radius\n",
    "    n = 60\n",
    "    length = circumference / n\n",
    "    s = angle / 6\n",
    "    for i in range(int(s)):\n",
    "            turtle.fd(length)\n",
    "            turtle.lt(360/n)\n",
    "    turtle.mainloop()\n",
    "    \n",
    "arc(bob,50,90)\n",
    "\n",
    "bob.end_fill()\n",
    "turtle.done()"
   ]
  },
  {
   "cell_type": "code",
   "execution_count": 1,
   "id": "816875bd",
   "metadata": {},
   "outputs": [
    {
     "ename": "NameError",
     "evalue": "name 'polygon' is not defined",
     "output_type": "error",
     "traceback": [
      "\u001b[1;31m---------------------------------------------------------------------------\u001b[0m",
      "\u001b[1;31mNameError\u001b[0m                                 Traceback (most recent call last)",
      "Cell \u001b[1;32mIn [1], line 14\u001b[0m\n\u001b[0;32m     11\u001b[0m         length\u001b[38;5;241m=\u001b[39m circum\u001b[38;5;241m/\u001b[39mn\n\u001b[0;32m     12\u001b[0m         polygon(t,length, n)\n\u001b[1;32m---> 14\u001b[0m circle(bob, \u001b[38;5;241m100\u001b[39m)\n\u001b[0;32m     15\u001b[0m bob\u001b[38;5;241m.\u001b[39mend_fill()\n\u001b[0;32m     16\u001b[0m turtle\u001b[38;5;241m.\u001b[39mdone()\n",
      "Cell \u001b[1;32mIn [1], line 12\u001b[0m, in \u001b[0;36mcircle\u001b[1;34m(t, r)\u001b[0m\n\u001b[0;32m     10\u001b[0m n\u001b[38;5;241m=\u001b[39m \u001b[38;5;28mint\u001b[39m(circum\u001b[38;5;241m/\u001b[39m\u001b[38;5;241m10\u001b[39m)\u001b[38;5;241m+\u001b[39m\u001b[38;5;241m1\u001b[39m\n\u001b[0;32m     11\u001b[0m length\u001b[38;5;241m=\u001b[39m circum\u001b[38;5;241m/\u001b[39mn\n\u001b[1;32m---> 12\u001b[0m \u001b[43mpolygon\u001b[49m(t,length, n)\n",
      "\u001b[1;31mNameError\u001b[0m: name 'polygon' is not defined"
     ]
    }
   ],
   "source": [
    "import turtle\n",
    "bob=turtle.Turtle()\n",
    "bob.color('green', 'cyan')\n",
    "bob.begin_fill()\n",
    "def polygon(t,length, n):\n",
    "    for i in range(n):\n",
    "        bob.forward(length)\n",
    "        bob.left(360/n)\n",
    "\n",
    "import math\n",
    "def circle(t, r):\n",
    "        circum= 2*math.pi*r\n",
    "        n= int(circum/10)+1\n",
    "        length= circum/n\n",
    "        polygon(t,length, n)\n",
    "\n",
    "circle(bob, 100)\n",
    "bob.end_fill()\n",
    "turtle.done()"
   ]
  },
  {
   "cell_type": "code",
   "execution_count": null,
   "id": "f3a51d4e",
   "metadata": {},
   "outputs": [],
   "source": []
  }
 ],
 "metadata": {
  "kernelspec": {
   "display_name": "Python 3 (ipykernel)",
   "language": "python",
   "name": "python3"
  },
  "language_info": {
   "codemirror_mode": {
    "name": "ipython",
    "version": 3
   },
   "file_extension": ".py",
   "mimetype": "text/x-python",
   "name": "python",
   "nbconvert_exporter": "python",
   "pygments_lexer": "ipython3",
   "version": "3.10.7"
  }
 },
 "nbformat": 4,
 "nbformat_minor": 5
}
